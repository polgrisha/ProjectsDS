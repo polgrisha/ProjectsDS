{
 "cells": [
  {
   "cell_type": "markdown",
   "metadata": {},
   "source": [
    "Это ***вспомогательный ноутбук***, необходимый лишь для обработки всех данных и формирования общего файла с предсказаниями.\n",
    "\n",
    "Никаких новых функций в нём нет."
   ]
  },
  {
   "cell_type": "code",
   "execution_count": 3,
   "metadata": {},
   "outputs": [],
   "source": [
    "import pandas as pd\n",
    "import numpy as np\n",
    "from tqdm import tqdm_notebook\n",
    "import matplotlib.pyplot as plt\n",
    "import seaborn as sns\n",
    "import warnings\n",
    "from sklearn.decomposition import PCA\n",
    "from sklearn.manifold import TSNE\n",
    "from umap.umap_ import UMAP\n",
    "\n",
    "from sklearn.preprocessing import StandardScaler\n",
    "\n",
    "from sklearn.cluster import \\\n",
    "    KMeans, \\\n",
    "    AgglomerativeClustering, \\\n",
    "    DBSCAN, \\\n",
    "    SpectralClustering\n",
    "\n",
    "warnings.filterwarnings('ignore')\n",
    "sns.set_style('whitegrid')\n",
    "sns.set(font_scale=1.5)"
   ]
  },
  {
   "cell_type": "markdown",
   "metadata": {},
   "source": [
    "Файл со всеми ~115000 сессиями."
   ]
  },
  {
   "cell_type": "code",
   "execution_count": 4,
   "metadata": {},
   "outputs": [],
   "source": [
    "all_data = pd.read_csv('data/processed_data.csv')"
   ]
  },
  {
   "cell_type": "markdown",
   "metadata": {},
   "source": [
    "Генерация новых признаков."
   ]
  },
  {
   "cell_type": "code",
   "execution_count": 5,
   "metadata": {},
   "outputs": [],
   "source": [
    "def add_features(data):\n",
    "\n",
    "    new_data = data.copy()\n",
    "\n",
    "    new_data['delay'] = new_data['ts']\n",
    "    new_data.loc[1:, 'delay'] = (new_data['delay'].values[1:] - \n",
    "                                 new_data['delay'].values[:-1])\n",
    "\n",
    "    dist = np.sqrt((new_data['x'].values[1:] - new_data['x'].values[:-1])**2 + \n",
    "                   (new_data['y'].values[1:] - new_data['y'].values[:-1])**2)\n",
    "\n",
    "    new_data['dist'] = 0\n",
    "    new_data.loc[1:, 'dist'] = dist\n",
    "\n",
    "    new_data.loc[new_data['begin'] == 1, 'delay'] = 0\n",
    "    new_data.loc[new_data['begin'] == 1, 'av_speed'] = 0\n",
    "\n",
    "    new_data['av_speed'] = new_data['dist'] / new_data['delay']\n",
    "\n",
    "    new_data['x_diff'] = new_data.x\n",
    "    new_data.loc[1:, 'x_diff'] = new_data.x.values[1:] - new_data.x.values[:-1]\n",
    "\n",
    "    new_data['y_diff'] = new_data.y\n",
    "    new_data.loc[1:, 'y_diff'] = new_data.y.values[1:] - new_data.y.values[:-1]\n",
    "\n",
    "    new_data.loc[new_data['begin'] == 1, 'x_diff'] = 0\n",
    "    new_data.loc[new_data['begin'] == 1, 'y_diff'] = 0\n",
    "\n",
    "    angles = [np.arctan2(y_diff, x_diff) for y_diff, x_diff in zip(new_data.y_diff, new_data.x_diff)]\n",
    "\n",
    "    new_data['angle'] = angles\n",
    "    new_data.loc[new_data.angle == 0, 'angle'] = np.nan\n",
    "    new_data.loc[new_data['begin'] == 1, 'angle'] = 0.\n",
    "\n",
    "    # когда такси стоит, оно сохраняет направление\n",
    "    new_data.loc[:, 'angle'].fillna(method='pad', inplace=True)\n",
    "    \n",
    "    return new_data"
   ]
  },
  {
   "cell_type": "code",
   "execution_count": 6,
   "metadata": {},
   "outputs": [],
   "source": [
    "new_all_data = add_features(all_data)"
   ]
  },
  {
   "cell_type": "markdown",
   "metadata": {},
   "source": [
    "Полученные данные."
   ]
  },
  {
   "cell_type": "code",
   "execution_count": 7,
   "metadata": {},
   "outputs": [
    {
     "data": {
      "text/html": [
       "<div>\n",
       "<style scoped>\n",
       "    .dataframe tbody tr th:only-of-type {\n",
       "        vertical-align: middle;\n",
       "    }\n",
       "\n",
       "    .dataframe tbody tr th {\n",
       "        vertical-align: top;\n",
       "    }\n",
       "\n",
       "    .dataframe thead th {\n",
       "        text-align: right;\n",
       "    }\n",
       "</style>\n",
       "<table border=\"1\" class=\"dataframe\">\n",
       "  <thead>\n",
       "    <tr style=\"text-align: right;\">\n",
       "      <th></th>\n",
       "      <th>status</th>\n",
       "      <th>y</th>\n",
       "      <th>ts</th>\n",
       "      <th>x</th>\n",
       "      <th>begin</th>\n",
       "      <th>session</th>\n",
       "      <th>delay</th>\n",
       "      <th>dist</th>\n",
       "      <th>av_speed</th>\n",
       "      <th>x_diff</th>\n",
       "      <th>y_diff</th>\n",
       "      <th>angle</th>\n",
       "    </tr>\n",
       "  </thead>\n",
       "  <tbody>\n",
       "    <tr>\n",
       "      <th>0</th>\n",
       "      <td>0.0</td>\n",
       "      <td>0.000000</td>\n",
       "      <td>0.0</td>\n",
       "      <td>0.000000</td>\n",
       "      <td>1</td>\n",
       "      <td>0</td>\n",
       "      <td>0.0</td>\n",
       "      <td>0.000000</td>\n",
       "      <td>NaN</td>\n",
       "      <td>0.000000</td>\n",
       "      <td>0.000000</td>\n",
       "      <td>0.000000</td>\n",
       "    </tr>\n",
       "    <tr>\n",
       "      <th>1</th>\n",
       "      <td>0.0</td>\n",
       "      <td>0.291129</td>\n",
       "      <td>9.0</td>\n",
       "      <td>-0.644802</td>\n",
       "      <td>0</td>\n",
       "      <td>0</td>\n",
       "      <td>9.0</td>\n",
       "      <td>0.707478</td>\n",
       "      <td>0.078609</td>\n",
       "      <td>-0.644802</td>\n",
       "      <td>0.291129</td>\n",
       "      <td>2.717491</td>\n",
       "    </tr>\n",
       "    <tr>\n",
       "      <th>2</th>\n",
       "      <td>0.0</td>\n",
       "      <td>1.229173</td>\n",
       "      <td>17.0</td>\n",
       "      <td>-0.243663</td>\n",
       "      <td>0</td>\n",
       "      <td>0</td>\n",
       "      <td>8.0</td>\n",
       "      <td>1.020216</td>\n",
       "      <td>0.127527</td>\n",
       "      <td>0.401139</td>\n",
       "      <td>0.938044</td>\n",
       "      <td>1.166697</td>\n",
       "    </tr>\n",
       "    <tr>\n",
       "      <th>3</th>\n",
       "      <td>0.0</td>\n",
       "      <td>13.056778</td>\n",
       "      <td>25.0</td>\n",
       "      <td>2.447144</td>\n",
       "      <td>0</td>\n",
       "      <td>0</td>\n",
       "      <td>8.0</td>\n",
       "      <td>12.129826</td>\n",
       "      <td>1.516228</td>\n",
       "      <td>2.690807</td>\n",
       "      <td>11.827605</td>\n",
       "      <td>1.347101</td>\n",
       "    </tr>\n",
       "    <tr>\n",
       "      <th>4</th>\n",
       "      <td>0.0</td>\n",
       "      <td>21.475057</td>\n",
       "      <td>33.0</td>\n",
       "      <td>-3.184499</td>\n",
       "      <td>0</td>\n",
       "      <td>0</td>\n",
       "      <td>8.0</td>\n",
       "      <td>10.128318</td>\n",
       "      <td>1.266040</td>\n",
       "      <td>-5.631643</td>\n",
       "      <td>8.418279</td>\n",
       "      <td>2.160397</td>\n",
       "    </tr>\n",
       "  </tbody>\n",
       "</table>\n",
       "</div>"
      ],
      "text/plain": [
       "   status          y    ts         x  begin  session  delay       dist  \\\n",
       "0     0.0   0.000000   0.0  0.000000      1        0    0.0   0.000000   \n",
       "1     0.0   0.291129   9.0 -0.644802      0        0    9.0   0.707478   \n",
       "2     0.0   1.229173  17.0 -0.243663      0        0    8.0   1.020216   \n",
       "3     0.0  13.056778  25.0  2.447144      0        0    8.0  12.129826   \n",
       "4     0.0  21.475057  33.0 -3.184499      0        0    8.0  10.128318   \n",
       "\n",
       "   av_speed    x_diff     y_diff     angle  \n",
       "0       NaN  0.000000   0.000000  0.000000  \n",
       "1  0.078609 -0.644802   0.291129  2.717491  \n",
       "2  0.127527  0.401139   0.938044  1.166697  \n",
       "3  1.516228  2.690807  11.827605  1.347101  \n",
       "4  1.266040 -5.631643   8.418279  2.160397  "
      ]
     },
     "execution_count": 7,
     "metadata": {},
     "output_type": "execute_result"
    }
   ],
   "source": [
    "new_all_data.head()"
   ]
  },
  {
   "cell_type": "markdown",
   "metadata": {},
   "source": [
    "Предсказания с использованием методов кластеризации."
   ]
  },
  {
   "cell_type": "code",
   "execution_count": 10,
   "metadata": {},
   "outputs": [],
   "source": [
    "def clustering_prediction(fit_predict_methods, data):\n",
    "    session_values = np.unique(data.session.values)\n",
    "\n",
    "    session_predictions = []\n",
    "    cluster_distances = []\n",
    "    for i, session in tqdm_notebook(enumerate(session_values), total=len(session_values)):\n",
    "        \n",
    "        # Данные рассматриваемой сессии\n",
    "        session_data = data[data.session == session]\n",
    "        session_data = session_data[session_data.ts != 0]\n",
    "        \n",
    "        columns = ['x', 'y', 'ts', 'av_speed', 'angle', 'dist']\n",
    "\n",
    "        # Выделяем из данных сессии данные с нужными статусами\n",
    "        status_1_data = session_data[session_data.status == 1].loc[:, columns].copy()\n",
    "        status_0_data = session_data[session_data.status == 0].loc[:, columns].copy()\n",
    "        status_2_data = session_data[session_data.status == 2].loc[:, columns].copy()\n",
    "        \n",
    "        # Соединяем всё вместе\n",
    "        status_data_w_dist = pd.concat([status_0_data.iloc[-2:, :],\n",
    "                                 status_1_data,\n",
    "                                 status_2_data.iloc[:2, :]],\n",
    "                                 axis=0)\n",
    "        \n",
    "        if status_data_w_dist.shape[0] < 3:\n",
    "            status_data_w_dist = status_data_w_dist.append(status_data_w_dist.iloc[0, :])\n",
    "            \n",
    "        status_data = status_data_w_dist.loc[:, columns[:-1]].copy()\n",
    "        \n",
    "        if status_data.shape[0] < 3:\n",
    "            status_data = status_data.append(status_data.iloc[0, :])\n",
    "            \n",
    "        \n",
    "        #Стандартизуем данные\n",
    "        scaler = StandardScaler(with_mean=False)\n",
    "        status_data.iloc[:, :] = scaler.fit_transform(status_data.copy())\n",
    "        \n",
    "        \n",
    "        x_preds = []\n",
    "        y_preds = []\n",
    "        dist_preds = []\n",
    "        for method in fit_predict_methods:\n",
    "            pred = method(status_data)\n",
    "            \n",
    "            # Найдём точки, где сменяется кластер\n",
    "            candidates = []\n",
    "            for j in range(len(pred) - 1):\n",
    "                if pred[j] != pred[j+1]:\n",
    "                    candidates.append(j)\n",
    "            \n",
    "            # Если кластера всего два, то возьмём последнюю рассматриваемую\n",
    "            # точку в качестве правой границы\n",
    "            if len(candidates) == 1:\n",
    "                candidates.append(len(pred) - 1)\n",
    "            \n",
    "            # Предсказания и среднее расстояние в кластере\n",
    "            x_preds.append(status_data_w_dist['x'].values[candidates[-1]])\n",
    "            y_preds.append(status_data_w_dist['y'].values[candidates[-1]])\n",
    "            dist_preds.append(np.mean(status_data_w_dist['dist'].values[candidates[0]:candidates[-1]+1]))\n",
    "            \n",
    "            \n",
    "        x_pred = np.mean(x_preds)\n",
    "        y_pred = np.mean(y_preds)\n",
    "        \n",
    "        session_predictions.append([i, x_pred, y_pred])\n",
    "        cluster_distances.append(np.mean(dist_preds))\n",
    "        \n",
    "    return np.array(session_predictions), np.array(cluster_distances)\n",
    "\n",
    "fit_predict_methods = [KMeans(n_clusters=3,\n",
    "                            random_state=42,\n",
    "                            n_init=100,\n",
    "                            max_iter=1000,\n",
    "                            n_jobs=-1).fit_predict,\n",
    "                       AgglomerativeClustering(n_clusters=3,\n",
    "                                               linkage='ward').fit_predict,\n",
    "                       SpectralClustering(n_clusters=3, n_jobs=-1).fit_predict]"
   ]
  },
  {
   "cell_type": "code",
   "execution_count": 11,
   "metadata": {},
   "outputs": [
    {
     "data": {
      "application/vnd.jupyter.widget-view+json": {
       "model_id": "5c1ba4e5490e43c38ac6460ea6688b10",
       "version_major": 2,
       "version_minor": 0
      },
      "text/plain": [
       "HBox(children=(FloatProgress(value=0.0, max=115204.0), HTML(value='')))"
      ]
     },
     "metadata": {},
     "output_type": "display_data"
    },
    {
     "name": "stdout",
     "output_type": "stream",
     "text": [
      "\n"
     ]
    }
   ],
   "source": [
    "# Очень долго выполняющийся код\n",
    "# all_predictions, all_cluster_distances = clustering_prediction(fit_predict_methods, new_all_data)"
   ]
  },
  {
   "cell_type": "markdown",
   "metadata": {},
   "source": [
    "Предсказание с помощью поиска первой точки со статусом 2."
   ]
  },
  {
   "cell_type": "code",
   "execution_count": 12,
   "metadata": {},
   "outputs": [],
   "source": [
    "def first_status_2(data):\n",
    "    d = {}\n",
    "    \n",
    "    session_values = np.unique(data.session.values)\n",
    "    for session in tqdm_notebook(session_values):\n",
    "        session_data = data[data.session == session]\n",
    "        pickup_row = session_data[session_data.status == 2].head(1)\n",
    "        d[session] = (pickup_row.x.values[0], pickup_row.y.values[0]) \n",
    "        \n",
    "    return d"
   ]
  },
  {
   "cell_type": "markdown",
   "metadata": {},
   "source": [
    "Формирование словаря всех предсказаний."
   ]
  },
  {
   "cell_type": "code",
   "execution_count": 16,
   "metadata": {},
   "outputs": [],
   "source": [
    "def final_preds(predictions, cluster_distances, data):\n",
    "    # пороговое значение\n",
    "    threshold = np.quantile(cluster_distances, 0.1)\n",
    "    print(f'Пороговое значение межкластерного расстояния: {threshold}')\n",
    "\n",
    "    valid_predictions = predictions[cluster_distances < threshold]\n",
    "\n",
    "    preds = {}\n",
    "    for pred in valid_predictions:\n",
    "        preds[int(pred[0])] = (pred[1], pred[2], 0)\n",
    "    \n",
    "    first2 = first_status_2(data)\n",
    "\n",
    "    for key in first2:\n",
    "        if key not in preds:\n",
    "            preds[key] = (first2[key][0], first2[key][1], 1)\n",
    "            \n",
    "    return preds"
   ]
  },
  {
   "cell_type": "code",
   "execution_count": 17,
   "metadata": {},
   "outputs": [
    {
     "name": "stdout",
     "output_type": "stream",
     "text": [
      "Пороговое значение межкластерного расстояния: 1.1775877242421593\n"
     ]
    },
    {
     "data": {
      "application/vnd.jupyter.widget-view+json": {
       "model_id": "6dfd0814ac1a4bf2809aebe914d3a7a4",
       "version_major": 2,
       "version_minor": 0
      },
      "text/plain": [
       "HBox(children=(FloatProgress(value=0.0, max=115204.0), HTML(value='')))"
      ]
     },
     "metadata": {},
     "output_type": "display_data"
    },
    {
     "name": "stdout",
     "output_type": "stream",
     "text": [
      "\n"
     ]
    }
   ],
   "source": [
    "preds = final_preds(all_predictions, all_cluster_distances, all_data)"
   ]
  },
  {
   "cell_type": "code",
   "execution_count": 18,
   "metadata": {},
   "outputs": [
    {
     "data": {
      "text/plain": [
       "((467.8795440394896, 1009.9926489507196, 1),\n",
       " (373.0633040684311, -1113.3754465019024, 1))"
      ]
     },
     "execution_count": 18,
     "metadata": {},
     "output_type": "execute_result"
    }
   ],
   "source": [
    "preds[1], preds[100]"
   ]
  },
  {
   "cell_type": "markdown",
   "metadata": {},
   "source": [
    "Сохранение данных."
   ]
  },
  {
   "cell_type": "code",
   "execution_count": 19,
   "metadata": {},
   "outputs": [
    {
     "data": {
      "text/html": [
       "<div>\n",
       "<style scoped>\n",
       "    .dataframe tbody tr th:only-of-type {\n",
       "        vertical-align: middle;\n",
       "    }\n",
       "\n",
       "    .dataframe tbody tr th {\n",
       "        vertical-align: top;\n",
       "    }\n",
       "\n",
       "    .dataframe thead th {\n",
       "        text-align: right;\n",
       "    }\n",
       "</style>\n",
       "<table border=\"1\" class=\"dataframe\">\n",
       "  <thead>\n",
       "    <tr style=\"text-align: right;\">\n",
       "      <th></th>\n",
       "      <th>x</th>\n",
       "      <th>y</th>\n",
       "      <th>method</th>\n",
       "    </tr>\n",
       "  </thead>\n",
       "  <tbody>\n",
       "    <tr>\n",
       "      <th>0</th>\n",
       "      <td>537.323154</td>\n",
       "      <td>73.614187</td>\n",
       "      <td>1.0</td>\n",
       "    </tr>\n",
       "    <tr>\n",
       "      <th>1</th>\n",
       "      <td>467.879544</td>\n",
       "      <td>1009.992649</td>\n",
       "      <td>1.0</td>\n",
       "    </tr>\n",
       "    <tr>\n",
       "      <th>2</th>\n",
       "      <td>-698.044056</td>\n",
       "      <td>-39.040766</td>\n",
       "      <td>1.0</td>\n",
       "    </tr>\n",
       "    <tr>\n",
       "      <th>3</th>\n",
       "      <td>-140.035784</td>\n",
       "      <td>2103.199406</td>\n",
       "      <td>1.0</td>\n",
       "    </tr>\n",
       "    <tr>\n",
       "      <th>4</th>\n",
       "      <td>-1033.518299</td>\n",
       "      <td>-107.762341</td>\n",
       "      <td>1.0</td>\n",
       "    </tr>\n",
       "  </tbody>\n",
       "</table>\n",
       "</div>"
      ],
      "text/plain": [
       "             x            y  method\n",
       "0   537.323154    73.614187     1.0\n",
       "1   467.879544  1009.992649     1.0\n",
       "2  -698.044056   -39.040766     1.0\n",
       "3  -140.035784  2103.199406     1.0\n",
       "4 -1033.518299  -107.762341     1.0"
      ]
     },
     "execution_count": 19,
     "metadata": {},
     "output_type": "execute_result"
    }
   ],
   "source": [
    "preds_data = pd.DataFrame(preds).T\n",
    "preds_data.columns = ['x', 'y', 'method']\n",
    "preds_data = preds_data.sort_index()\n",
    "\n",
    "preds_data.head()"
   ]
  },
  {
   "cell_type": "code",
   "execution_count": 20,
   "metadata": {},
   "outputs": [],
   "source": [
    "preds_data.to_csv('data/all_predictions.csv')"
   ]
  },
  {
   "cell_type": "code",
   "execution_count": null,
   "metadata": {},
   "outputs": [],
   "source": []
  }
 ],
 "metadata": {
  "kernelspec": {
   "display_name": "Python [conda env:stats] *",
   "language": "python",
   "name": "conda-env-stats-py"
  },
  "language_info": {
   "codemirror_mode": {
    "name": "ipython",
    "version": 3
   },
   "file_extension": ".py",
   "mimetype": "text/x-python",
   "name": "python",
   "nbconvert_exporter": "python",
   "pygments_lexer": "ipython3",
   "version": "3.7.6"
  }
 },
 "nbformat": 4,
 "nbformat_minor": 4
}
