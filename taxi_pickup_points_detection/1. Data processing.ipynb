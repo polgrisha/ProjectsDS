{
 "cells": [
  {
   "cell_type": "code",
   "execution_count": 25,
   "metadata": {},
   "outputs": [],
   "source": [
    "import scipy as sps\n",
    "import numpy as np\n",
    "import matplotlib.pyplot as plt\n",
    "import seaborn as sns\n",
    "import pandas as pd\n",
    "from tqdm.notebook import tqdm\n",
    "import numba\n",
    "import gc\n",
    "\n",
    "sns.set(font_scale=1.5)"
   ]
  },
  {
   "cell_type": "markdown",
   "metadata": {},
   "source": [
    "Данные хранятся в файле `stop_points_data.txt`. Попробуем прочитать первую строку в даных. \n",
    "\n",
    "Выведем начало строки."
   ]
  },
  {
   "cell_type": "code",
   "execution_count": 2,
   "metadata": {},
   "outputs": [
    {
     "name": "stdout",
     "output_type": "stream",
     "text": [
      "session=[{\"status\": 0, \"y\": 0.0, \"ts\": 0, \"x\": 0.0}, {\"status\": 0, \"y\": 0.2911288692583093, \"ts\": 9, \"x\": -0.6448019382406134}, {\"status\": 0, \"y\": 1.229173178592953, \"ts\": 17, \"x\": -0.24366284626788443}, {\"status\": 0, \"y\": 13.056778378200342, \"ts\": 25, \"x\": 2.4471444565060496}, {\"status\": 0, \"y\": 21.47505743411422, \"ts\": 33, \"x\": -3.1844985717071896}, {\"status\": 0, \"y\": 21.482221727177166, \"ts\": 41, \"x\": -3.8915564540242107}, {\"status\": 0, \"y\": 24.859388237736596, \"ts\": 49, \"x\": -7.891632600692803}, {\"status\": 0, \"y\": 40.66878618117626, \"ts\": 57, \"x\": -8.823989467671135}, {\"status\": 0, \"y\": 63.53642212023506, \"ts\": 65, \"x\": 21.015910259296565}, {\"status\": 0, \"y\": 81.4936540237547, \"ts\": 73, \"x\": 47.33571398853448}, {\"status\": 0, \"y\": 107.80154200449012, \"ts\": 81, \"x\": 76.63476932223945}, {\"status\": 0, \"y\": 115.94023455999715, \"ts\": 86, \"x\": 89.87931785951574}, {\"status\": 0, \"y\": 115.94023455999715, \"ts\": 90, \"x\": 89.87931785951574}, {\"status\": 0, \"y\": 115.94023455999715, \"ts\": 98, \"x\":\n"
     ]
    }
   ],
   "source": [
    "with open(\"stop_points_data.txt\") as file_handler:\n",
    "    line = file_handler.readline()\n",
    "    print(line[:1000])"
   ]
  },
  {
   "cell_type": "markdown",
   "metadata": {},
   "source": [
    "В каждой строке хранится одна сессия. Из вида строки ясно, что её можно исполнить, используя функцию `exec` и получить список из словарей для каждой сессии. Далее, все словари всех полученных спсиков можно объеденить в один датафрейм, добавив колонку `session`, отвечающую за номер сессии. \n",
    "\n",
    "Добавим, также, колонку `begin`, значение в которой будет 1, если данная точка - первая в сессии, иначе - 0.\n",
    "\n",
    "Посчитаем количество строк в файле:"
   ]
  },
  {
   "cell_type": "code",
   "execution_count": 3,
   "metadata": {},
   "outputs": [
    {
     "data": {
      "application/vnd.jupyter.widget-view+json": {
       "model_id": "876cba4a75a849fcb395882a7ece51f9",
       "version_major": 2,
       "version_minor": 0
      },
      "text/plain": [
       "HBox(children=(FloatProgress(value=1.0, bar_style='info', max=1.0), HTML(value='')))"
      ]
     },
     "metadata": {},
     "output_type": "display_data"
    },
    {
     "name": "stdout",
     "output_type": "stream",
     "text": [
      "\n",
      "115204\n"
     ]
    }
   ],
   "source": [
    "with open(\"stop_points_data.txt\") as file_handler:\n",
    "        i = 0\n",
    "        for line in tqdm(file_handler):\n",
    "            i+=1\n",
    "            \n",
    "print(i)"
   ]
  },
  {
   "cell_type": "markdown",
   "metadata": {},
   "source": [
    "Функция обработки данных."
   ]
  },
  {
   "cell_type": "code",
   "execution_count": 45,
   "metadata": {},
   "outputs": [],
   "source": [
    "def process_data(input_filename, max_iter_num=np.inf):\n",
    "    df = pd.DataFrame()\n",
    "    with open(input_filename) as file_handler:\n",
    "        i = 0\n",
    "        for line in tqdm(file_handler):\n",
    "            if (i == max_iter_num):\n",
    "                break\n",
    "                \n",
    "            ldic=locals()\n",
    "            exec(line,globals(),ldic)\n",
    "            session = ldic['session']\n",
    "            \n",
    "            if (i == 0):\n",
    "                df = pd.DataFrame(session)\n",
    "                df['session'] = i\n",
    "                df['begin'] = 0\n",
    "                df.loc[0, 'begin'] = 1\n",
    "            else:\n",
    "                curr_df = pd.DataFrame(session)\n",
    "                curr_df['session'] = i\n",
    "                df = df.append(curr_df)\n",
    "                df['begin'] = 0\n",
    "                df.loc[0, 'begin'] = 1\n",
    "                \n",
    "            i += 1\n",
    "            \n",
    "    return(df)"
   ]
  },
  {
   "cell_type": "markdown",
   "metadata": {},
   "source": [
    "Для сокращения времени, преобразуем на данном этапе только часть данных."
   ]
  },
  {
   "cell_type": "code",
   "execution_count": 47,
   "metadata": {},
   "outputs": [
    {
     "data": {
      "application/vnd.jupyter.widget-view+json": {
       "model_id": "f0a0b7304f1d41beadd983057cfef393",
       "version_major": 2,
       "version_minor": 0
      },
      "text/plain": [
       "HBox(children=(FloatProgress(value=1.0, bar_style='info', max=1.0), HTML(value='')))"
      ]
     },
     "metadata": {},
     "output_type": "display_data"
    }
   ],
   "source": [
    "input_name = \"stop_points_data.txt\"\n",
    "data = process_data(input_name, 3000)"
   ]
  },
  {
   "cell_type": "code",
   "execution_count": 6,
   "metadata": {},
   "outputs": [
    {
     "data": {
      "text/html": [
       "<div>\n",
       "<style scoped>\n",
       "    .dataframe tbody tr th:only-of-type {\n",
       "        vertical-align: middle;\n",
       "    }\n",
       "\n",
       "    .dataframe tbody tr th {\n",
       "        vertical-align: top;\n",
       "    }\n",
       "\n",
       "    .dataframe thead th {\n",
       "        text-align: right;\n",
       "    }\n",
       "</style>\n",
       "<table border=\"1\" class=\"dataframe\">\n",
       "  <thead>\n",
       "    <tr style=\"text-align: right;\">\n",
       "      <th></th>\n",
       "      <th>status</th>\n",
       "      <th>y</th>\n",
       "      <th>ts</th>\n",
       "      <th>x</th>\n",
       "      <th>session</th>\n",
       "      <th>begin</th>\n",
       "    </tr>\n",
       "  </thead>\n",
       "  <tbody>\n",
       "    <tr>\n",
       "      <th>0</th>\n",
       "      <td>0</td>\n",
       "      <td>0.000000</td>\n",
       "      <td>0</td>\n",
       "      <td>0.000000</td>\n",
       "      <td>0</td>\n",
       "      <td>1</td>\n",
       "    </tr>\n",
       "    <tr>\n",
       "      <th>1</th>\n",
       "      <td>0</td>\n",
       "      <td>0.291129</td>\n",
       "      <td>9</td>\n",
       "      <td>-0.644802</td>\n",
       "      <td>0</td>\n",
       "      <td>0</td>\n",
       "    </tr>\n",
       "    <tr>\n",
       "      <th>2</th>\n",
       "      <td>0</td>\n",
       "      <td>1.229173</td>\n",
       "      <td>17</td>\n",
       "      <td>-0.243663</td>\n",
       "      <td>0</td>\n",
       "      <td>0</td>\n",
       "    </tr>\n",
       "    <tr>\n",
       "      <th>3</th>\n",
       "      <td>0</td>\n",
       "      <td>13.056778</td>\n",
       "      <td>25</td>\n",
       "      <td>2.447144</td>\n",
       "      <td>0</td>\n",
       "      <td>0</td>\n",
       "    </tr>\n",
       "    <tr>\n",
       "      <th>4</th>\n",
       "      <td>0</td>\n",
       "      <td>21.475057</td>\n",
       "      <td>33</td>\n",
       "      <td>-3.184499</td>\n",
       "      <td>0</td>\n",
       "      <td>0</td>\n",
       "    </tr>\n",
       "  </tbody>\n",
       "</table>\n",
       "</div>"
      ],
      "text/plain": [
       "   status          y  ts         x  session  begin\n",
       "0       0   0.000000   0  0.000000        0      1\n",
       "1       0   0.291129   9 -0.644802        0      0\n",
       "2       0   1.229173  17 -0.243663        0      0\n",
       "3       0  13.056778  25  2.447144        0      0\n",
       "4       0  21.475057  33 -3.184499        0      0"
      ]
     },
     "execution_count": 6,
     "metadata": {},
     "output_type": "execute_result"
    }
   ],
   "source": [
    "data.head()"
   ]
  },
  {
   "cell_type": "code",
   "execution_count": 7,
   "metadata": {},
   "outputs": [
    {
     "data": {
      "text/plain": [
       "(312288, 6)"
      ]
     },
     "execution_count": 7,
     "metadata": {},
     "output_type": "execute_result"
    }
   ],
   "source": [
    "data.shape"
   ]
  },
  {
   "cell_type": "markdown",
   "metadata": {},
   "source": [
    "Сохраним получившийся датафрем в файл для дальнейшего использоваиния."
   ]
  },
  {
   "cell_type": "code",
   "execution_count": 8,
   "metadata": {},
   "outputs": [],
   "source": [
    "data.to_csv('./data/3k_processed_data.csv', index=False)"
   ]
  },
  {
   "cell_type": "markdown",
   "metadata": {},
   "source": [
    "Обработаем все данные для финального решения.\n",
    "\n",
    "Для более быстрой обработки будем просто парсить строки файла."
   ]
  },
  {
   "cell_type": "code",
   "execution_count": 117,
   "metadata": {},
   "outputs": [],
   "source": [
    "def process_data_fast(input_filename, max_iter_num=np.inf):\n",
    "    with open(input_filename) as file_handler:\n",
    "        i = 0\n",
    "        all_data = []\n",
    "        for line in tqdm(file_handler):\n",
    "            if (i == max_iter_num):\n",
    "                break\n",
    "                \n",
    "            points = line[9:-2].split('}, ')\n",
    "            \n",
    "            for j, point in enumerate(points):\n",
    "                feature_list = []\n",
    "                \n",
    "                if j == len(points)-1:\n",
    "                    point = point[:-1]\n",
    "                    \n",
    "                features = point[1:].split(', ')\n",
    "                \n",
    "                for feature in features:\n",
    "                    feature_list.append(float(feature.split(': ')[1]))\n",
    "                feature_list.append(int(j == 0))\n",
    "                feature_list.append(i)\n",
    "                all_data.append(feature_list)\n",
    "                \n",
    "            i += 1\n",
    "            \n",
    "    return all_data"
   ]
  },
  {
   "cell_type": "code",
   "execution_count": 119,
   "metadata": {},
   "outputs": [
    {
     "data": {
      "application/vnd.jupyter.widget-view+json": {
       "model_id": "c0b915fceb8644438523dde28bcccdcc",
       "version_major": 2,
       "version_minor": 0
      },
      "text/plain": [
       "HBox(children=(FloatProgress(value=1.0, bar_style='info', max=1.0), HTML(value='')))"
      ]
     },
     "metadata": {},
     "output_type": "display_data"
    },
    {
     "name": "stdout",
     "output_type": "stream",
     "text": [
      "\n"
     ]
    }
   ],
   "source": [
    "res = process_data_fast(\"stop_points_data.txt\")"
   ]
  },
  {
   "cell_type": "code",
   "execution_count": 121,
   "metadata": {},
   "outputs": [],
   "source": [
    "all_data = pd.DataFrame(res, columns = ['status', 'y', 'ts',\n",
    "                                        'x', 'begin', 'session'])"
   ]
  },
  {
   "cell_type": "code",
   "execution_count": 124,
   "metadata": {},
   "outputs": [
    {
     "data": {
      "text/html": [
       "<div>\n",
       "<style scoped>\n",
       "    .dataframe tbody tr th:only-of-type {\n",
       "        vertical-align: middle;\n",
       "    }\n",
       "\n",
       "    .dataframe tbody tr th {\n",
       "        vertical-align: top;\n",
       "    }\n",
       "\n",
       "    .dataframe thead th {\n",
       "        text-align: right;\n",
       "    }\n",
       "</style>\n",
       "<table border=\"1\" class=\"dataframe\">\n",
       "  <thead>\n",
       "    <tr style=\"text-align: right;\">\n",
       "      <th></th>\n",
       "      <th>status</th>\n",
       "      <th>y</th>\n",
       "      <th>ts</th>\n",
       "      <th>x</th>\n",
       "      <th>begin</th>\n",
       "      <th>session</th>\n",
       "    </tr>\n",
       "  </thead>\n",
       "  <tbody>\n",
       "    <tr>\n",
       "      <th>0</th>\n",
       "      <td>0.0</td>\n",
       "      <td>0.000000</td>\n",
       "      <td>0.0</td>\n",
       "      <td>0.000000</td>\n",
       "      <td>1</td>\n",
       "      <td>0</td>\n",
       "    </tr>\n",
       "    <tr>\n",
       "      <th>1</th>\n",
       "      <td>0.0</td>\n",
       "      <td>0.291129</td>\n",
       "      <td>9.0</td>\n",
       "      <td>-0.644802</td>\n",
       "      <td>0</td>\n",
       "      <td>0</td>\n",
       "    </tr>\n",
       "    <tr>\n",
       "      <th>2</th>\n",
       "      <td>0.0</td>\n",
       "      <td>1.229173</td>\n",
       "      <td>17.0</td>\n",
       "      <td>-0.243663</td>\n",
       "      <td>0</td>\n",
       "      <td>0</td>\n",
       "    </tr>\n",
       "    <tr>\n",
       "      <th>3</th>\n",
       "      <td>0.0</td>\n",
       "      <td>13.056778</td>\n",
       "      <td>25.0</td>\n",
       "      <td>2.447144</td>\n",
       "      <td>0</td>\n",
       "      <td>0</td>\n",
       "    </tr>\n",
       "    <tr>\n",
       "      <th>4</th>\n",
       "      <td>0.0</td>\n",
       "      <td>21.475057</td>\n",
       "      <td>33.0</td>\n",
       "      <td>-3.184499</td>\n",
       "      <td>0</td>\n",
       "      <td>0</td>\n",
       "    </tr>\n",
       "  </tbody>\n",
       "</table>\n",
       "</div>"
      ],
      "text/plain": [
       "   status          y    ts         x  begin  session\n",
       "0     0.0   0.000000   0.0  0.000000      1        0\n",
       "1     0.0   0.291129   9.0 -0.644802      0        0\n",
       "2     0.0   1.229173  17.0 -0.243663      0        0\n",
       "3     0.0  13.056778  25.0  2.447144      0        0\n",
       "4     0.0  21.475057  33.0 -3.184499      0        0"
      ]
     },
     "execution_count": 124,
     "metadata": {},
     "output_type": "execute_result"
    }
   ],
   "source": [
    "all_data.head()"
   ]
  },
  {
   "cell_type": "markdown",
   "metadata": {},
   "source": [
    "Сохраним все данные в отдельный файл."
   ]
  },
  {
   "cell_type": "code",
   "execution_count": 125,
   "metadata": {},
   "outputs": [],
   "source": [
    "all_data.to_csv('./data/processed_data.csv', index=False)"
   ]
  }
 ],
 "metadata": {
  "kernelspec": {
   "display_name": "Python [conda env:stats] *",
   "language": "python",
   "name": "conda-env-stats-py"
  },
  "language_info": {
   "codemirror_mode": {
    "name": "ipython",
    "version": 3
   },
   "file_extension": ".py",
   "mimetype": "text/x-python",
   "name": "python",
   "nbconvert_exporter": "python",
   "pygments_lexer": "ipython3",
   "version": "3.7.6"
  }
 },
 "nbformat": 4,
 "nbformat_minor": 4
}
