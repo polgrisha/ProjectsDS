{
  "nbformat": 4,
  "nbformat_minor": 0,
  "metadata": {
    "kernelspec": {
      "display_name": "Python 3",
      "language": "python",
      "name": "python3"
    },
    "language_info": {
      "codemirror_mode": {
        "name": "ipython",
        "version": 3
      },
      "file_extension": ".py",
      "mimetype": "text/x-python",
      "name": "python",
      "nbconvert_exporter": "python",
      "pygments_lexer": "ipython3",
      "version": "3.7.4"
    },
    "colab": {
      "name": "subscriptions.ipynb",
      "provenance": [],
      "collapsed_sections": [],
      "toc_visible": true
    }
  },
  "cells": [
    {
      "cell_type": "markdown",
      "metadata": {
        "id": "3KIvxbzMT47M",
        "colab_type": "text"
      },
      "source": [
        "В **этом ноутбуке** анализируется, как велопрокатом пользуются владельцы различных абонементов."
      ]
    },
    {
      "cell_type": "code",
      "metadata": {
        "id": "3edklR_ZT47N",
        "colab_type": "code",
        "colab": {}
      },
      "source": [
        "import pandas as pd\n",
        "import numpy as np\n",
        "from sklearn import preprocessing\n",
        "import scipy.stats as sps\n",
        "from tqdm import tqdm\n",
        "import datetime\n",
        "from statsmodels.stats.multitest import multipletests\n",
        "import matplotlib.pyplot as plt\n",
        "\n",
        "import plotly.graph_objects as go\n",
        "import plotly.express as px\n",
        "import plotly.offline\n",
        "\n",
        "\n",
        "from mpl_toolkits.basemap import Basemap"
      ],
      "execution_count": 0,
      "outputs": []
    },
    {
      "cell_type": "markdown",
      "metadata": {
        "id": "5gXbEbOHT47Q",
        "colab_type": "text"
      },
      "source": [
        "### 0. Загрузка данных"
      ]
    },
    {
      "cell_type": "code",
      "metadata": {
        "id": "OOf3XbXiT47R",
        "colab_type": "code",
        "colab": {},
        "outputId": "0ea0d101-92fc-43af-d10f-71802eba2759"
      },
      "source": [
        "trips = pd.read_csv('cycle-share-dataset/trip.csv', error_bad_lines=False,\n",
        "                   parse_dates=[1, 2])"
      ],
      "execution_count": 0,
      "outputs": [
        {
          "output_type": "stream",
          "text": [
            "b'Skipping line 50794: expected 12 fields, saw 20\\n'\n"
          ],
          "name": "stderr"
        }
      ]
    },
    {
      "cell_type": "markdown",
      "metadata": {
        "id": "pIMH686uT47U",
        "colab_type": "text"
      },
      "source": [
        "label encoding и парсинг временных признаков"
      ]
    },
    {
      "cell_type": "code",
      "metadata": {
        "scrolled": true,
        "id": "NJWFBfjYT47V",
        "colab_type": "code",
        "colab": {}
      },
      "source": [
        "le = preprocessing.LabelEncoder()\n",
        "le_trips = trips.copy()\n",
        "le_trips.bikeid = le.fit_transform(le_trips.bikeid)\n",
        "le_trips.from_station_id = le.fit_transform(le_trips.from_station_id)\n",
        "le_trips.to_station_id = le.transform(le_trips.to_station_id)\n",
        "le_trips.usertype = (le_trips.usertype.values == 'Member').astype(int)\n",
        "le_trips.gender = (le_trips.gender == 'Male').astype(int)\n",
        "\n",
        "le_trips['start_year'] = le_trips['starttime'].dt.year\n",
        "le_trips['start_month'] = le_trips['starttime'].dt.month\n",
        "le_trips['start_day'] = le_trips['starttime'].dt.day\n",
        "le_trips['start_date'] = le_trips['starttime'].dt.date\n",
        "le_trips['start_time'] = le_trips['starttime'].dt.time\n",
        "le_trips['start_weekday'] = le_trips['starttime'].dt.dayofweek\n",
        "\n",
        "le_trips['stop_year'] = le_trips['stoptime'].dt.year\n",
        "le_trips['stop_month'] = le_trips['stoptime'].dt.month\n",
        "le_trips['stop_day'] = le_trips['stoptime'].dt.day\n",
        "le_trips['stop_date'] = le_trips['stoptime'].dt.date\n",
        "\n",
        "le_trips['stop_time'] = le_trips['stoptime'].dt.time\n",
        "le_trips['stop_weekday'] = le_trips['stoptime'].dt.dayofweek\n",
        "\n",
        "le_trips.fillna(-1, inplace=True)"
      ],
      "execution_count": 0,
      "outputs": []
    },
    {
      "cell_type": "code",
      "metadata": {
        "id": "CKb7MJgpT47X",
        "colab_type": "code",
        "colab": {},
        "outputId": "b112083c-d485-4581-b996-325e0585c4b2"
      },
      "source": [
        "le_trips.head()"
      ],
      "execution_count": 0,
      "outputs": [
        {
          "output_type": "execute_result",
          "data": {
            "text/html": [
              "<div>\n",
              "<style scoped>\n",
              "    .dataframe tbody tr th:only-of-type {\n",
              "        vertical-align: middle;\n",
              "    }\n",
              "\n",
              "    .dataframe tbody tr th {\n",
              "        vertical-align: top;\n",
              "    }\n",
              "\n",
              "    .dataframe thead th {\n",
              "        text-align: right;\n",
              "    }\n",
              "</style>\n",
              "<table border=\"1\" class=\"dataframe\">\n",
              "  <thead>\n",
              "    <tr style=\"text-align: right;\">\n",
              "      <th></th>\n",
              "      <th>trip_id</th>\n",
              "      <th>starttime</th>\n",
              "      <th>stoptime</th>\n",
              "      <th>bikeid</th>\n",
              "      <th>tripduration</th>\n",
              "      <th>from_station_name</th>\n",
              "      <th>to_station_name</th>\n",
              "      <th>from_station_id</th>\n",
              "      <th>to_station_id</th>\n",
              "      <th>usertype</th>\n",
              "      <th>...</th>\n",
              "      <th>start_day</th>\n",
              "      <th>start_date</th>\n",
              "      <th>start_time</th>\n",
              "      <th>start_weekday</th>\n",
              "      <th>stop_year</th>\n",
              "      <th>stop_month</th>\n",
              "      <th>stop_day</th>\n",
              "      <th>stop_date</th>\n",
              "      <th>stop_time</th>\n",
              "      <th>stop_weekday</th>\n",
              "    </tr>\n",
              "  </thead>\n",
              "  <tbody>\n",
              "    <tr>\n",
              "      <td>0</td>\n",
              "      <td>431</td>\n",
              "      <td>2014-10-13 10:31:00</td>\n",
              "      <td>2014-10-13 10:48:00</td>\n",
              "      <td>289</td>\n",
              "      <td>985.935</td>\n",
              "      <td>2nd Ave &amp; Spring St</td>\n",
              "      <td>Occidental Park / Occidental Ave S &amp; S Washing...</td>\n",
              "      <td>8</td>\n",
              "      <td>31</td>\n",
              "      <td>1</td>\n",
              "      <td>...</td>\n",
              "      <td>13</td>\n",
              "      <td>2014-10-13</td>\n",
              "      <td>10:31:00</td>\n",
              "      <td>0</td>\n",
              "      <td>2014</td>\n",
              "      <td>10</td>\n",
              "      <td>13</td>\n",
              "      <td>2014-10-13</td>\n",
              "      <td>10:48:00</td>\n",
              "      <td>0</td>\n",
              "    </tr>\n",
              "    <tr>\n",
              "      <td>1</td>\n",
              "      <td>432</td>\n",
              "      <td>2014-10-13 10:32:00</td>\n",
              "      <td>2014-10-13 10:48:00</td>\n",
              "      <td>186</td>\n",
              "      <td>926.375</td>\n",
              "      <td>2nd Ave &amp; Spring St</td>\n",
              "      <td>Occidental Park / Occidental Ave S &amp; S Washing...</td>\n",
              "      <td>8</td>\n",
              "      <td>31</td>\n",
              "      <td>1</td>\n",
              "      <td>...</td>\n",
              "      <td>13</td>\n",
              "      <td>2014-10-13</td>\n",
              "      <td>10:32:00</td>\n",
              "      <td>0</td>\n",
              "      <td>2014</td>\n",
              "      <td>10</td>\n",
              "      <td>13</td>\n",
              "      <td>2014-10-13</td>\n",
              "      <td>10:48:00</td>\n",
              "      <td>0</td>\n",
              "    </tr>\n",
              "    <tr>\n",
              "      <td>2</td>\n",
              "      <td>433</td>\n",
              "      <td>2014-10-13 10:33:00</td>\n",
              "      <td>2014-10-13 10:48:00</td>\n",
              "      <td>477</td>\n",
              "      <td>883.831</td>\n",
              "      <td>2nd Ave &amp; Spring St</td>\n",
              "      <td>Occidental Park / Occidental Ave S &amp; S Washing...</td>\n",
              "      <td>8</td>\n",
              "      <td>31</td>\n",
              "      <td>1</td>\n",
              "      <td>...</td>\n",
              "      <td>13</td>\n",
              "      <td>2014-10-13</td>\n",
              "      <td>10:33:00</td>\n",
              "      <td>0</td>\n",
              "      <td>2014</td>\n",
              "      <td>10</td>\n",
              "      <td>13</td>\n",
              "      <td>2014-10-13</td>\n",
              "      <td>10:48:00</td>\n",
              "      <td>0</td>\n",
              "    </tr>\n",
              "    <tr>\n",
              "      <td>3</td>\n",
              "      <td>434</td>\n",
              "      <td>2014-10-13 10:34:00</td>\n",
              "      <td>2014-10-13 10:48:00</td>\n",
              "      <td>324</td>\n",
              "      <td>865.937</td>\n",
              "      <td>2nd Ave &amp; Spring St</td>\n",
              "      <td>Occidental Park / Occidental Ave S &amp; S Washing...</td>\n",
              "      <td>8</td>\n",
              "      <td>31</td>\n",
              "      <td>1</td>\n",
              "      <td>...</td>\n",
              "      <td>13</td>\n",
              "      <td>2014-10-13</td>\n",
              "      <td>10:34:00</td>\n",
              "      <td>0</td>\n",
              "      <td>2014</td>\n",
              "      <td>10</td>\n",
              "      <td>13</td>\n",
              "      <td>2014-10-13</td>\n",
              "      <td>10:48:00</td>\n",
              "      <td>0</td>\n",
              "    </tr>\n",
              "    <tr>\n",
              "      <td>4</td>\n",
              "      <td>435</td>\n",
              "      <td>2014-10-13 10:34:00</td>\n",
              "      <td>2014-10-13 10:49:00</td>\n",
              "      <td>193</td>\n",
              "      <td>923.923</td>\n",
              "      <td>2nd Ave &amp; Spring St</td>\n",
              "      <td>Occidental Park / Occidental Ave S &amp; S Washing...</td>\n",
              "      <td>8</td>\n",
              "      <td>31</td>\n",
              "      <td>1</td>\n",
              "      <td>...</td>\n",
              "      <td>13</td>\n",
              "      <td>2014-10-13</td>\n",
              "      <td>10:34:00</td>\n",
              "      <td>0</td>\n",
              "      <td>2014</td>\n",
              "      <td>10</td>\n",
              "      <td>13</td>\n",
              "      <td>2014-10-13</td>\n",
              "      <td>10:49:00</td>\n",
              "      <td>0</td>\n",
              "    </tr>\n",
              "  </tbody>\n",
              "</table>\n",
              "<p>5 rows × 24 columns</p>\n",
              "</div>"
            ],
            "text/plain": [
              "   trip_id           starttime            stoptime  bikeid  tripduration  \\\n",
              "0      431 2014-10-13 10:31:00 2014-10-13 10:48:00     289       985.935   \n",
              "1      432 2014-10-13 10:32:00 2014-10-13 10:48:00     186       926.375   \n",
              "2      433 2014-10-13 10:33:00 2014-10-13 10:48:00     477       883.831   \n",
              "3      434 2014-10-13 10:34:00 2014-10-13 10:48:00     324       865.937   \n",
              "4      435 2014-10-13 10:34:00 2014-10-13 10:49:00     193       923.923   \n",
              "\n",
              "     from_station_name                                    to_station_name  \\\n",
              "0  2nd Ave & Spring St  Occidental Park / Occidental Ave S & S Washing...   \n",
              "1  2nd Ave & Spring St  Occidental Park / Occidental Ave S & S Washing...   \n",
              "2  2nd Ave & Spring St  Occidental Park / Occidental Ave S & S Washing...   \n",
              "3  2nd Ave & Spring St  Occidental Park / Occidental Ave S & S Washing...   \n",
              "4  2nd Ave & Spring St  Occidental Park / Occidental Ave S & S Washing...   \n",
              "\n",
              "   from_station_id  to_station_id  usertype  ...  start_day  start_date  \\\n",
              "0                8             31         1  ...         13  2014-10-13   \n",
              "1                8             31         1  ...         13  2014-10-13   \n",
              "2                8             31         1  ...         13  2014-10-13   \n",
              "3                8             31         1  ...         13  2014-10-13   \n",
              "4                8             31         1  ...         13  2014-10-13   \n",
              "\n",
              "   start_time  start_weekday  stop_year stop_month stop_day   stop_date  \\\n",
              "0    10:31:00              0       2014         10       13  2014-10-13   \n",
              "1    10:32:00              0       2014         10       13  2014-10-13   \n",
              "2    10:33:00              0       2014         10       13  2014-10-13   \n",
              "3    10:34:00              0       2014         10       13  2014-10-13   \n",
              "4    10:34:00              0       2014         10       13  2014-10-13   \n",
              "\n",
              "   stop_time  stop_weekday  \n",
              "0   10:48:00             0  \n",
              "1   10:48:00             0  \n",
              "2   10:48:00             0  \n",
              "3   10:48:00             0  \n",
              "4   10:49:00             0  \n",
              "\n",
              "[5 rows x 24 columns]"
            ]
          },
          "metadata": {
            "tags": []
          },
          "execution_count": 38
        }
      ]
    },
    {
      "cell_type": "code",
      "metadata": {
        "id": "r7sRiN0sT47a",
        "colab_type": "code",
        "colab": {},
        "outputId": "f45531a2-2497-4ca9-dbd1-9d9a7530895e"
      },
      "source": [
        "le_trips.columns"
      ],
      "execution_count": 0,
      "outputs": [
        {
          "output_type": "execute_result",
          "data": {
            "text/plain": [
              "Index(['trip_id', 'starttime', 'stoptime', 'bikeid', 'tripduration',\n",
              "       'from_station_name', 'to_station_name', 'from_station_id',\n",
              "       'to_station_id', 'usertype', 'gender', 'birthyear', 'start_year',\n",
              "       'start_month', 'start_day', 'start_date', 'start_time', 'start_weekday',\n",
              "       'stop_year', 'stop_month', 'stop_day', 'stop_date', 'stop_time',\n",
              "       'stop_weekday'],\n",
              "      dtype='object')"
            ]
          },
          "metadata": {
            "tags": []
          },
          "execution_count": 39
        }
      ]
    },
    {
      "cell_type": "markdown",
      "metadata": {
        "id": "KZvsjVH4T47c",
        "colab_type": "text"
      },
      "source": [
        "### 1. Анализ зависимостей"
      ]
    },
    {
      "cell_type": "markdown",
      "metadata": {
        "id": "0wZT9ugMT47d",
        "colab_type": "text"
      },
      "source": [
        "Посмотрим, как разные признаки влияют на наличие абонемента. \n",
        "\n",
        "Анализ будем осуществлять с помощью двух критериев:\n",
        "\n",
        "1) Для категориальных признаков классический хи-квадрат.\n",
        "\n",
        "2) Для вещественных признаков критерий Манна-Уитни: в зависимости от наличия абонемента будем получать две вещественные выборки и проверять гипотезу о равенстве их распределений. В случае отвержения гипотезы, делаем вывод, что признак влияет на наличие абонемента."
      ]
    },
    {
      "cell_type": "markdown",
      "metadata": {
        "id": "IOGUtdxvT47d",
        "colab_type": "text"
      },
      "source": [
        "**Категориальные признаки:**"
      ]
    },
    {
      "cell_type": "code",
      "metadata": {
        "id": "CPVBKQYYT47e",
        "colab_type": "code",
        "colab": {},
        "outputId": "ce29385d-1a9e-46fe-d9b7-7d5a26194acf"
      },
      "source": [
        "pvalues = []\n",
        "\n",
        "cat_features = ['from_station_id', 'to_station_id', 'gender',\n",
        "                'birthyear',\n",
        "                'start_year', 'start_month', 'start_weekday']\n",
        "\n",
        "for feat in cat_features:\n",
        "    print(f'Признак {feat}')\n",
        "    \n",
        "    obs = pd.crosstab(le_trips[feat],\n",
        "                      le_trips['usertype'])\n",
        "    chi2, p, dof, expected = sps.chi2_contingency(obs)\n",
        "    if (expected < 5).mean() < 0.2:\n",
        "        print(f'p-value: {p}')\n",
        "        pvalues.append(p)\n",
        "    else:\n",
        "        print('Критерий неприменим')\n",
        "        pvalues.append(-1)\n",
        "    print()"
      ],
      "execution_count": 0,
      "outputs": [
        {
          "output_type": "stream",
          "text": [
            "Признак from_station_id\n",
            "p-value: 0.0\n",
            "\n",
            "Признак to_station_id\n",
            "p-value: 0.0\n",
            "\n",
            "Признак gender\n",
            "p-value: 0.0\n",
            "\n",
            "Признак birthyear\n",
            "p-value: 0.0\n",
            "\n",
            "Признак start_year\n",
            "p-value: 1.4820725743292082e-296\n",
            "\n",
            "Признак start_month\n",
            "p-value: 0.0\n",
            "\n",
            "Признак start_weekday\n",
            "p-value: 0.0\n",
            "\n"
          ],
          "name": "stdout"
        }
      ]
    },
    {
      "cell_type": "markdown",
      "metadata": {
        "id": "iAqnxy1UT47h",
        "colab_type": "text"
      },
      "source": [
        "**Вещественные признаки**"
      ]
    },
    {
      "cell_type": "markdown",
      "metadata": {
        "id": "Qrr-27X2T47h",
        "colab_type": "text"
      },
      "source": [
        "Вещественный признак здесь только один - tripduration."
      ]
    },
    {
      "cell_type": "code",
      "metadata": {
        "id": "h_s8Bnj9T47i",
        "colab_type": "code",
        "colab": {}
      },
      "source": [
        "st, p = sps.mannwhitneyu(le_trips[le_trips.usertype == 1]['tripduration'],\n",
        "                         le_trips[le_trips.usertype == 0]['tripduration'])\n",
        "\n",
        "pvalues.append(p)"
      ],
      "execution_count": 0,
      "outputs": []
    },
    {
      "cell_type": "markdown",
      "metadata": {
        "id": "aw7Es7hMT47k",
        "colab_type": "text"
      },
      "source": [
        "**Итог:**"
      ]
    },
    {
      "cell_type": "code",
      "metadata": {
        "id": "sZt4MRXwT47k",
        "colab_type": "code",
        "colab": {},
        "outputId": "9fea7929-493f-4279-b6a8-b9def7219e04"
      },
      "source": [
        "multipletests(pvalues)"
      ],
      "execution_count": 0,
      "outputs": [
        {
          "output_type": "execute_result",
          "data": {
            "text/plain": [
              "(array([ True,  True,  True,  True,  True,  True,  True,  True]),\n",
              " array([0., 0., 0., 0., 0., 0., 0., 0.]),\n",
              " 0.006391150954545011,\n",
              " 0.00625)"
            ]
          },
          "metadata": {
            "tags": []
          },
          "execution_count": 64
        }
      ]
    },
    {
      "cell_type": "markdown",
      "metadata": {
        "id": "2sezmR7aT47n",
        "colab_type": "text"
      },
      "source": [
        "Для всех признаков гипотеза о независимости отверглась, а значит все они влияют на наличие абонемента."
      ]
    },
    {
      "cell_type": "markdown",
      "metadata": {
        "id": "lBb8LJpWT47o",
        "colab_type": "text"
      },
      "source": [
        "### 2. Абонементы у участников групповых поездок"
      ]
    },
    {
      "cell_type": "code",
      "metadata": {
        "id": "vVlA08VzT47o",
        "colab_type": "code",
        "colab": {}
      },
      "source": [
        "group_trips = pd.read_csv('cycle-share-dataset/trips_w_groups.csv')\n",
        "group_trips = group_trips.drop(columns=['Unnamed: 0'])\n",
        "\n",
        "group_count = pd.DataFrame(group_trips.groupby(by = 'group_id').\n",
        "                           count()['trip_id'])\n",
        "\n",
        "group_count.columns = ['members_num']\n",
        "group_count.reset_index(inplace=True)\n",
        "\n",
        "group_trips = group_trips.merge(group_count,\n",
        "                                how='left', on='group_id')"
      ],
      "execution_count": 0,
      "outputs": []
    },
    {
      "cell_type": "code",
      "metadata": {
        "id": "M_HyfnjAT47r",
        "colab_type": "code",
        "colab": {
          "base_uri": "https://localhost:8080/",
          "height": 34
        },
        "outputId": "b7eb8c3c-56e8-4991-b45b-e89582754eb0"
      },
      "source": [
        "np.unique(group_trips.members_num)"
      ],
      "execution_count": 43,
      "outputs": [
        {
          "output_type": "execute_result",
          "data": {
            "text/plain": [
              "array([ 1,  2,  3,  4,  5,  6,  7,  8,  9, 10, 12, 14, 16, 20, 24])"
            ]
          },
          "metadata": {
            "tags": []
          },
          "execution_count": 43
        }
      ]
    },
    {
      "cell_type": "code",
      "metadata": {
        "id": "M3Rvlz5vT47u",
        "colab_type": "code",
        "colab": {}
      },
      "source": [
        "trips = group_trips.copy()\n",
        "single_trips = group_trips[group_trips.members_num == 1]\n",
        "group_trips = group_trips[group_trips.members_num > 1]"
      ],
      "execution_count": 0,
      "outputs": []
    },
    {
      "cell_type": "markdown",
      "metadata": {
        "id": "gwILUdgOT47w",
        "colab_type": "text"
      },
      "source": [
        "Посмотрим на распределение наличия абонементов у тех, кто катается один и у тех, кто катается группой."
      ]
    },
    {
      "cell_type": "code",
      "metadata": {
        "id": "uXU2guxQT47w",
        "colab_type": "code",
        "colab": {
          "base_uri": "https://localhost:8080/",
          "height": 607
        },
        "outputId": "43b83904-31ae-40c1-f26c-5cddfebd9d23"
      },
      "source": [
        "plt.figure(figsize=(9, 10))\n",
        "\n",
        "plt.subplot(221)\n",
        "plt.title('Одиночные поездки')\n",
        "plt.hist(single_trips.usertype.values, density=True)\n",
        "\n",
        "plt.subplot(222)\n",
        "plt.title('Групповые поездки')\n",
        "plt.hist(group_trips.usertype.values, density=True)\n",
        "\n",
        "plt.subplot(223)\n",
        "plt.title('Все поездки')\n",
        "plt.hist(trips.usertype.values, density=True)\n",
        "\n",
        "plt.show()"
      ],
      "execution_count": 45,
      "outputs": [
        {
          "output_type": "display_data",
          "data": {
            "image/png": "[encoded data removed]",
            "text/plain": [
              "<Figure size 648x720 with 3 Axes>"
            ]
          },
          "metadata": {
            "tags": [],
            "needs_background": "light"
          }
        }
      ]
    },
    {
      "cell_type": "markdown",
      "metadata": {
        "id": "SoWYqlsiT470",
        "colab_type": "text"
      },
      "source": [
        "**Наблюдение:** удивительно, но больше половины участников групповых поездок не владеют абонементами, в то время как те, кто катаются по одиночке, в подавляющем большинстве владеют абонементами. \n",
        "\n",
        "При этом в ноутбуке по исследованию групповых поездок мы выяснили, что они составляют большую долю от всех поездок, поэтому можно посоветовать компании придумать способ рекламы абонементов участникам групповых поездок, например, какие-нибудь скидки по акции \"приведи друга\".  "
      ]
    },
    {
      "cell_type": "markdown",
      "metadata": {
        "id": "GQOrK07DT471",
        "colab_type": "text"
      },
      "source": [
        "### 3. Визуализация маршрутов владельцев абонементов"
      ]
    },
    {
      "cell_type": "markdown",
      "metadata": {
        "id": "tHD86Ir4T471",
        "colab_type": "text"
      },
      "source": [
        "Посмотрим, по каким маршрутам обычно катаются люди без абоменементов и люди с абонементами."
      ]
    },
    {
      "cell_type": "code",
      "metadata": {
        "id": "odAhj4gNYK2S",
        "colab_type": "code",
        "colab": {}
      },
      "source": [
        "stations = pd.read_csv('cycle-share-dataset/station.csv')"
      ],
      "execution_count": 0,
      "outputs": []
    },
    {
      "cell_type": "code",
      "metadata": {
        "id": "bT9Gt1qMT471",
        "colab_type": "code",
        "colab": {}
      },
      "source": [
        "def most_popular(trip):\n",
        "    d = {}\n",
        "    \n",
        "    for route in trip.values:\n",
        "        from_to = (route[7], route[8])\n",
        "        if from_to in d:\n",
        "            d[from_to] += 1\n",
        "        else:\n",
        "            d[from_to] = 1\n",
        "        \n",
        "    d = {k: v for k, v in sorted(d.items(), key=lambda item: item[1])[::-1]}\n",
        "    \n",
        "    return d\n",
        "\n",
        "\n",
        "def plot_popular(popular_dict, n=10):\n",
        "    px.set_mapbox_access_token(open(\"public_key\").read())\n",
        "    fig = px.scatter_mapbox(stations, lat=\"lat\", lon=\"long\",\n",
        "                            zoom=11)\n",
        "    top = list(popular_dict.keys())[:n]\n",
        "\n",
        "    for route in top:\n",
        "        st_from = route[0]\n",
        "        st_to = route[1]\n",
        "        from_lon = stations[stations.station_id == st_from].long.values[0]\n",
        "        from_lat = stations[stations.station_id == st_from].lat.values[0]\n",
        "        to_lon = stations[stations.station_id == st_to].long.values[0]\n",
        "        to_lat = stations[stations.station_id == st_to].lat.values[0]\n",
        "\n",
        "        fig.add_trace(go.Scattermapbox(mode = \"markers+lines\",\n",
        "                                       lon = [from_lon, to_lon],\n",
        "                                       lat = [from_lat, to_lat],\n",
        "                                       marker = {'size': 10}))\n",
        "        \n",
        "    fig.show()"
      ],
      "execution_count": 0,
      "outputs": []
    },
    {
      "cell_type": "code",
      "metadata": {
        "id": "uUcR0yoZYP3O",
        "colab_type": "code",
        "colab": {
          "base_uri": "https://localhost:8080/",
          "height": 542
        },
        "outputId": "d1c33fff-39f5-4b6e-b91b-3677af6b4f7a"
      },
      "source": [
        "member_popular = most_popular(trips[trips.usertype == 'Member'])\n",
        "plot_popular(member_popular, 10)"
      ],
      "execution_count": 48,
      "outputs": [
        {
          "output_type": "display_data",
          "data": {
            "text/html": [
              "<html>\n",
              "<head><meta charset=\"utf-8\" /></head>\n",
              "<body>\n",
              "    <div>\n",
              "            <script src=\"https://cdnjs.cloudflare.com/ajax/libs/mathjax/2.7.5/MathJax.js?config=TeX-AMS-MML_SVG\"></script><script type=\"text/javascript\">if (window.MathJax) {MathJax.Hub.Config({SVG: {font: \"STIX-Web\"}});}</script>\n",
              "                <script type=\"text/javascript\">window.PlotlyConfig = {MathJaxConfig: 'local'};</script>\n",
              "        <script src=\"https://cdn.plot.ly/plotly-latest.min.js\"></script>    \n",
              "            <div id=\"0edc321e-0461-4e71-9600-91b48ebcc4f3\" class=\"plotly-graph-div\" style=\"height:525px; width:100%;\"></div>\n",
              "            <script type=\"text/javascript\">\n",
              "                \n",
              "                    window.PLOTLYENV=window.PLOTLYENV || {};\n",
              "                    \n",
              "                if (document.getElementById(\"0edc321e-0461-4e71-9600-91b48ebcc4f3\")) {\n",
              "                    Plotly.newPlot(\n",
              "                        '0edc321e-0461-4e71-9600-91b48ebcc4f3',\n",
              "                        [{\"hoverlabel\": {\"namelength\": 0}, \"hovertemplate\": \"lat=%{lat}<br>long=%{lon}\", \"lat\": [47.618418, 47.615829, 47.616094, 47.61311, 47.610731, 47.609221000000005, 47.604058, 47.60595, 47.603509, 47.610184999999994, 47.602103, 47.618633, 47.622063, 47.623367, 47.620712, 47.618549, 47.61533, 47.615486, 47.615517, 47.615456, 47.624142, 47.624297999999996, 47.663509000000005, 47.627643, 47.634831, 47.64909, 47.607281, 47.609239, 47.598488, 47.600757, 47.598994, 47.619859000000005, 47.627734999999994, 47.623165, 47.618320000000004, 47.613628000000006, 47.613715, 47.626041, 47.618285, 47.622277000000004, 47.61626, 47.624769, 47.666145, 47.658288, 47.656395, 47.663143, 47.660268, 47.659756, 47.655590000000004, 47.654613, 47.653713, 47.650725, 47.614315000000005, 47.607702, 47.61863956, 47.62087853, 47.64995155, 47.61137028], \"legendgroup\": \"\", \"lon\": [-122.35096399999999, -122.348564, -122.341102, -122.34420800000001, -122.332447, -122.335596, -122.3358, -122.33576799999999, -122.330409, -122.33964099999999, -122.316923, -122.325249, -122.321251, -122.32527900000001, -122.31280500000001, -122.31701699999999, -122.311752, -122.31824499999999, -122.322083, -122.326729, -122.31681100000002, -122.33961699999999, -122.28411899999999, -122.332576, -122.32663400000001, -122.32298300000001, -122.32478300000001, -122.31665100000001, -122.326412, -122.33294599999999, -122.32968400000001, -122.330304, -122.34223200000001, -122.33820300000001, -122.33891299999999, -122.337341, -122.331777, -122.335831, -122.342205, -122.35523, -122.33381499999999, -122.339408, -122.301491, -122.31333400000001, -122.31562, -122.31508600000001, -122.304826, -122.310402, -122.31188999999999, -122.30486299999998, -122.30216200000001, -122.31118799999999, -122.35409299999999, -122.34165, -122.32077690000001, -122.34737690000001, -122.3062634, -122.34870149999999], \"marker\": {\"color\": \"#636efa\"}, \"mode\": \"markers\", \"name\": \"\", \"showlegend\": false, \"subplot\": \"mapbox\", \"type\": \"scattermapbox\"}, {\"lat\": [47.61533, 47.613715], \"lon\": [-122.311752, -122.331777], \"marker\": {\"size\": 10}, \"mode\": \"markers+lines\", \"type\": \"scattermapbox\"}, {\"lat\": [47.614315000000005, 47.598994], \"lon\": [-122.35409299999999, -122.32968400000001], \"marker\": {\"size\": 10}, \"mode\": \"markers+lines\", \"type\": \"scattermapbox\"}, {\"lat\": [47.616094, 47.624297999999996], \"lon\": [-122.341102, -122.33961699999999], \"marker\": {\"size\": 10}, \"mode\": \"markers+lines\", \"type\": \"scattermapbox\"}, {\"lat\": [47.614315000000005, 47.607702], \"lon\": [-122.35409299999999, -122.34165], \"marker\": {\"size\": 10}, \"mode\": \"markers+lines\", \"type\": \"scattermapbox\"}, {\"lat\": [47.619859000000005, 47.613715], \"lon\": [-122.330304, -122.331777], \"marker\": {\"size\": 10}, \"mode\": \"markers+lines\", \"type\": \"scattermapbox\"}, {\"lat\": [47.613715, 47.619859000000005], \"lon\": [-122.331777, -122.330304], \"marker\": {\"size\": 10}, \"mode\": \"markers+lines\", \"type\": \"scattermapbox\"}, {\"lat\": [47.627734999999994, 47.623165], \"lon\": [-122.34223200000001, -122.33820300000001], \"marker\": {\"size\": 10}, \"mode\": \"markers+lines\", \"type\": \"scattermapbox\"}, {\"lat\": [47.613628000000006, 47.627734999999994], \"lon\": [-122.337341, -122.34223200000001], \"marker\": {\"size\": 10}, \"mode\": \"markers+lines\", \"type\": \"scattermapbox\"}, {\"lat\": [47.619859000000005, 47.613628000000006], \"lon\": [-122.330304, -122.337341], \"marker\": {\"size\": 10}, \"mode\": \"markers+lines\", \"type\": \"scattermapbox\"}, {\"lat\": [47.61533, 47.622063], \"lon\": [-122.311752, -122.321251], \"marker\": {\"size\": 10}, \"mode\": \"markers+lines\", \"type\": \"scattermapbox\"}],\n",
              "                        {\"legend\": {\"tracegroupgap\": 0}, \"mapbox\": {\"accesstoken\": \"pk.eyJ1IjoicG9sZ3Jpc2hhIiwiYSI6ImNrOHU3N3Z6dzAxdHkzbHFra2ZyMGw4ODQifQ.igzdXr2ju9ndExqwOEb27Q\", \"center\": {\"lat\": 47.62479551586206, \"lon\": -122.32724190862069}, \"domain\": {\"x\": [0.0, 1.0], \"y\": [0.0, 1.0]}, \"zoom\": 11}, \"margin\": {\"t\": 60}, \"template\": {\"data\": {\"bar\": [{\"error_x\": {\"color\": \"#2a3f5f\"}, \"error_y\": {\"color\": \"#2a3f5f\"}, \"marker\": {\"line\": {\"color\": \"#E5ECF6\", \"width\": 0.5}}, \"type\": \"bar\"}], \"barpolar\": [{\"marker\": {\"line\": {\"color\": \"#E5ECF6\", \"width\": 0.5}}, \"type\": \"barpolar\"}], \"carpet\": [{\"aaxis\": {\"endlinecolor\": \"#2a3f5f\", \"gridcolor\": \"white\", \"linecolor\": \"white\", \"minorgridcolor\": \"white\", \"startlinecolor\": \"#2a3f5f\"}, \"baxis\": {\"endlinecolor\": \"#2a3f5f\", \"gridcolor\": \"white\", \"linecolor\": \"white\", \"minorgridcolor\": \"white\", \"startlinecolor\": \"#2a3f5f\"}, \"type\": \"carpet\"}], \"choropleth\": [{\"colorbar\": {\"outlinewidth\": 0, \"ticks\": \"\"}, \"type\": \"choropleth\"}], \"contour\": [{\"colorbar\": {\"outlinewidth\": 0, \"ticks\": \"\"}, \"colorscale\": [[0.0, \"#0d0887\"], [0.1111111111111111, \"#46039f\"], [0.2222222222222222, \"#7201a8\"], [0.3333333333333333, \"#9c179e\"], [0.4444444444444444, \"#bd3786\"], [0.5555555555555556, \"#d8576b\"], [0.6666666666666666, \"#ed7953\"], [0.7777777777777778, \"#fb9f3a\"], [0.8888888888888888, \"#fdca26\"], [1.0, \"#f0f921\"]], \"type\": \"contour\"}], \"contourcarpet\": [{\"colorbar\": {\"outlinewidth\": 0, \"ticks\": \"\"}, \"type\": \"contourcarpet\"}], \"heatmap\": [{\"colorbar\": {\"outlinewidth\": 0, \"ticks\": \"\"}, \"colorscale\": [[0.0, \"#0d0887\"], [0.1111111111111111, \"#46039f\"], [0.2222222222222222, \"#7201a8\"], [0.3333333333333333, \"#9c179e\"], [0.4444444444444444, \"#bd3786\"], [0.5555555555555556, \"#d8576b\"], [0.6666666666666666, \"#ed7953\"], [0.7777777777777778, \"#fb9f3a\"], [0.8888888888888888, \"#fdca26\"], [1.0, \"#f0f921\"]], \"type\": \"heatmap\"}], \"heatmapgl\": [{\"colorbar\": {\"outlinewidth\": 0, \"ticks\": \"\"}, \"colorscale\": [[0.0, \"#0d0887\"], [0.1111111111111111, \"#46039f\"], [0.2222222222222222, \"#7201a8\"], [0.3333333333333333, \"#9c179e\"], [0.4444444444444444, \"#bd3786\"], [0.5555555555555556, \"#d8576b\"], [0.6666666666666666, \"#ed7953\"], [0.7777777777777778, \"#fb9f3a\"], [0.8888888888888888, \"#fdca26\"], [1.0, \"#f0f921\"]], \"type\": \"heatmapgl\"}], \"histogram\": [{\"marker\": {\"colorbar\": {\"outlinewidth\": 0, \"ticks\": \"\"}}, \"type\": \"histogram\"}], \"histogram2d\": [{\"colorbar\": {\"outlinewidth\": 0, \"ticks\": \"\"}, \"colorscale\": [[0.0, \"#0d0887\"], [0.1111111111111111, \"#46039f\"], [0.2222222222222222, \"#7201a8\"], [0.3333333333333333, \"#9c179e\"], [0.4444444444444444, \"#bd3786\"], [0.5555555555555556, \"#d8576b\"], [0.6666666666666666, \"#ed7953\"], [0.7777777777777778, \"#fb9f3a\"], [0.8888888888888888, \"#fdca26\"], [1.0, \"#f0f921\"]], \"type\": \"histogram2d\"}], \"histogram2dcontour\": [{\"colorbar\": {\"outlinewidth\": 0, \"ticks\": \"\"}, \"colorscale\": [[0.0, \"#0d0887\"], [0.1111111111111111, \"#46039f\"], [0.2222222222222222, \"#7201a8\"], [0.3333333333333333, \"#9c179e\"], [0.4444444444444444, \"#bd3786\"], [0.5555555555555556, \"#d8576b\"], [0.6666666666666666, \"#ed7953\"], [0.7777777777777778, \"#fb9f3a\"], [0.8888888888888888, \"#fdca26\"], [1.0, \"#f0f921\"]], \"type\": \"histogram2dcontour\"}], \"mesh3d\": [{\"colorbar\": {\"outlinewidth\": 0, \"ticks\": \"\"}, \"type\": \"mesh3d\"}], \"parcoords\": [{\"line\": {\"colorbar\": {\"outlinewidth\": 0, \"ticks\": \"\"}}, \"type\": \"parcoords\"}], \"pie\": [{\"automargin\": true, \"type\": \"pie\"}], \"scatter\": [{\"marker\": {\"colorbar\": {\"outlinewidth\": 0, \"ticks\": \"\"}}, \"type\": \"scatter\"}], \"scatter3d\": [{\"line\": {\"colorbar\": {\"outlinewidth\": 0, \"ticks\": \"\"}}, \"marker\": {\"colorbar\": {\"outlinewidth\": 0, \"ticks\": \"\"}}, \"type\": \"scatter3d\"}], \"scattercarpet\": [{\"marker\": {\"colorbar\": {\"outlinewidth\": 0, \"ticks\": \"\"}}, \"type\": \"scattercarpet\"}], \"scattergeo\": [{\"marker\": {\"colorbar\": {\"outlinewidth\": 0, \"ticks\": \"\"}}, \"type\": \"scattergeo\"}], \"scattergl\": [{\"marker\": {\"colorbar\": {\"outlinewidth\": 0, \"ticks\": \"\"}}, \"type\": \"scattergl\"}], \"scattermapbox\": [{\"marker\": {\"colorbar\": {\"outlinewidth\": 0, \"ticks\": \"\"}}, \"type\": \"scattermapbox\"}], \"scatterpolar\": [{\"marker\": {\"colorbar\": {\"outlinewidth\": 0, \"ticks\": \"\"}}, \"type\": \"scatterpolar\"}], \"scatterpolargl\": [{\"marker\": {\"colorbar\": {\"outlinewidth\": 0, \"ticks\": \"\"}}, \"type\": \"scatterpolargl\"}], \"scatterternary\": [{\"marker\": {\"colorbar\": {\"outlinewidth\": 0, \"ticks\": \"\"}}, \"type\": \"scatterternary\"}], \"surface\": [{\"colorbar\": {\"outlinewidth\": 0, \"ticks\": \"\"}, \"colorscale\": [[0.0, \"#0d0887\"], [0.1111111111111111, \"#46039f\"], [0.2222222222222222, \"#7201a8\"], [0.3333333333333333, \"#9c179e\"], [0.4444444444444444, \"#bd3786\"], [0.5555555555555556, \"#d8576b\"], [0.6666666666666666, \"#ed7953\"], [0.7777777777777778, \"#fb9f3a\"], [0.8888888888888888, \"#fdca26\"], [1.0, \"#f0f921\"]], \"type\": \"surface\"}], \"table\": [{\"cells\": {\"fill\": {\"color\": \"#EBF0F8\"}, \"line\": {\"color\": \"white\"}}, \"header\": {\"fill\": {\"color\": \"#C8D4E3\"}, \"line\": {\"color\": \"white\"}}, \"type\": \"table\"}]}, \"layout\": {\"annotationdefaults\": {\"arrowcolor\": \"#2a3f5f\", \"arrowhead\": 0, \"arrowwidth\": 1}, \"coloraxis\": {\"colorbar\": {\"outlinewidth\": 0, \"ticks\": \"\"}}, \"colorscale\": {\"diverging\": [[0, \"#8e0152\"], [0.1, \"#c51b7d\"], [0.2, \"#de77ae\"], [0.3, \"#f1b6da\"], [0.4, \"#fde0ef\"], [0.5, \"#f7f7f7\"], [0.6, \"#e6f5d0\"], [0.7, \"#b8e186\"], [0.8, \"#7fbc41\"], [0.9, \"#4d9221\"], [1, \"#276419\"]], \"sequential\": [[0.0, \"#0d0887\"], [0.1111111111111111, \"#46039f\"], [0.2222222222222222, \"#7201a8\"], [0.3333333333333333, \"#9c179e\"], [0.4444444444444444, \"#bd3786\"], [0.5555555555555556, \"#d8576b\"], [0.6666666666666666, \"#ed7953\"], [0.7777777777777778, \"#fb9f3a\"], [0.8888888888888888, \"#fdca26\"], [1.0, \"#f0f921\"]], \"sequentialminus\": [[0.0, \"#0d0887\"], [0.1111111111111111, \"#46039f\"], [0.2222222222222222, \"#7201a8\"], [0.3333333333333333, \"#9c179e\"], [0.4444444444444444, \"#bd3786\"], [0.5555555555555556, \"#d8576b\"], [0.6666666666666666, \"#ed7953\"], [0.7777777777777778, \"#fb9f3a\"], [0.8888888888888888, \"#fdca26\"], [1.0, \"#f0f921\"]]}, \"colorway\": [\"#636efa\", \"#EF553B\", \"#00cc96\", \"#ab63fa\", \"#FFA15A\", \"#19d3f3\", \"#FF6692\", \"#B6E880\", \"#FF97FF\", \"#FECB52\"], \"font\": {\"color\": \"#2a3f5f\"}, \"geo\": {\"bgcolor\": \"white\", \"lakecolor\": \"white\", \"landcolor\": \"#E5ECF6\", \"showlakes\": true, \"showland\": true, \"subunitcolor\": \"white\"}, \"hoverlabel\": {\"align\": \"left\"}, \"hovermode\": \"closest\", \"mapbox\": {\"style\": \"light\"}, \"paper_bgcolor\": \"white\", \"plot_bgcolor\": \"#E5ECF6\", \"polar\": {\"angularaxis\": {\"gridcolor\": \"white\", \"linecolor\": \"white\", \"ticks\": \"\"}, \"bgcolor\": \"#E5ECF6\", \"radialaxis\": {\"gridcolor\": \"white\", \"linecolor\": \"white\", \"ticks\": \"\"}}, \"scene\": {\"xaxis\": {\"backgroundcolor\": \"#E5ECF6\", \"gridcolor\": \"white\", \"gridwidth\": 2, \"linecolor\": \"white\", \"showbackground\": true, \"ticks\": \"\", \"zerolinecolor\": \"white\"}, \"yaxis\": {\"backgroundcolor\": \"#E5ECF6\", \"gridcolor\": \"white\", \"gridwidth\": 2, \"linecolor\": \"white\", \"showbackground\": true, \"ticks\": \"\", \"zerolinecolor\": \"white\"}, \"zaxis\": {\"backgroundcolor\": \"#E5ECF6\", \"gridcolor\": \"white\", \"gridwidth\": 2, \"linecolor\": \"white\", \"showbackground\": true, \"ticks\": \"\", \"zerolinecolor\": \"white\"}}, \"shapedefaults\": {\"line\": {\"color\": \"#2a3f5f\"}}, \"ternary\": {\"aaxis\": {\"gridcolor\": \"white\", \"linecolor\": \"white\", \"ticks\": \"\"}, \"baxis\": {\"gridcolor\": \"white\", \"linecolor\": \"white\", \"ticks\": \"\"}, \"bgcolor\": \"#E5ECF6\", \"caxis\": {\"gridcolor\": \"white\", \"linecolor\": \"white\", \"ticks\": \"\"}}, \"title\": {\"x\": 0.05}, \"xaxis\": {\"automargin\": true, \"gridcolor\": \"white\", \"linecolor\": \"white\", \"ticks\": \"\", \"title\": {\"standoff\": 15}, \"zerolinecolor\": \"white\", \"zerolinewidth\": 2}, \"yaxis\": {\"automargin\": true, \"gridcolor\": \"white\", \"linecolor\": \"white\", \"ticks\": \"\", \"title\": {\"standoff\": 15}, \"zerolinecolor\": \"white\", \"zerolinewidth\": 2}}}},\n",
              "                        {\"responsive\": true}\n",
              "                    ).then(function(){\n",
              "                            \n",
              "var gd = document.getElementById('0edc321e-0461-4e71-9600-91b48ebcc4f3');\n",
              "var x = new MutationObserver(function (mutations, observer) {{\n",
              "        var display = window.getComputedStyle(gd).display;\n",
              "        if (!display || display === 'none') {{\n",
              "            console.log([gd, 'removed!']);\n",
              "            Plotly.purge(gd);\n",
              "            observer.disconnect();\n",
              "        }}\n",
              "}});\n",
              "\n",
              "// Listen for the removal of the full notebook cells\n",
              "var notebookContainer = gd.closest('#notebook-container');\n",
              "if (notebookContainer) {{\n",
              "    x.observe(notebookContainer, {childList: true});\n",
              "}}\n",
              "\n",
              "// Listen for the clearing of the current output cell\n",
              "var outputEl = gd.closest('.output');\n",
              "if (outputEl) {{\n",
              "    x.observe(outputEl, {childList: true});\n",
              "}}\n",
              "\n",
              "                        })\n",
              "                };\n",
              "                \n",
              "            </script>\n",
              "        </div>\n",
              "</body>\n",
              "</html>"
            ]
          },
          "metadata": {
            "tags": []
          }
        }
      ]
    },
    {
      "cell_type": "markdown",
      "metadata": {
        "id": "WHMZVBz3cg6g",
        "colab_type": "text"
      },
      "source": [
        "**Наблюдение:** владельцы абонементов часто катаются и в \"деловой\", и в \"развлекательной\" частях города. "
      ]
    },
    {
      "cell_type": "code",
      "metadata": {
        "id": "8Nr5-cfYYSM3",
        "colab_type": "code",
        "colab": {
          "base_uri": "https://localhost:8080/",
          "height": 542
        },
        "outputId": "872b662c-5f52-42bc-d691-6dbc8f517aa9"
      },
      "source": [
        "not_member_popular = most_popular(trips[trips.usertype != 'Member'])\n",
        "plot_popular(not_member_popular, 10)"
      ],
      "execution_count": 49,
      "outputs": [
        {
          "output_type": "display_data",
          "data": {
            "text/html": [
              "<html>\n",
              "<head><meta charset=\"utf-8\" /></head>\n",
              "<body>\n",
              "    <div>\n",
              "            <script src=\"https://cdnjs.cloudflare.com/ajax/libs/mathjax/2.7.5/MathJax.js?config=TeX-AMS-MML_SVG\"></script><script type=\"text/javascript\">if (window.MathJax) {MathJax.Hub.Config({SVG: {font: \"STIX-Web\"}});}</script>\n",
              "                <script type=\"text/javascript\">window.PlotlyConfig = {MathJaxConfig: 'local'};</script>\n",
              "        <script src=\"https://cdn.plot.ly/plotly-latest.min.js\"></script>    \n",
              "            <div id=\"d30f71b5-028c-4767-894e-ed18e3385446\" class=\"plotly-graph-div\" style=\"height:525px; width:100%;\"></div>\n",
              "            <script type=\"text/javascript\">\n",
              "                \n",
              "                    window.PLOTLYENV=window.PLOTLYENV || {};\n",
              "                    \n",
              "                if (document.getElementById(\"d30f71b5-028c-4767-894e-ed18e3385446\")) {\n",
              "                    Plotly.newPlot(\n",
              "                        'd30f71b5-028c-4767-894e-ed18e3385446',\n",
              "                        [{\"hoverlabel\": {\"namelength\": 0}, \"hovertemplate\": \"lat=%{lat}<br>long=%{lon}\", \"lat\": [47.618418, 47.615829, 47.616094, 47.61311, 47.610731, 47.609221000000005, 47.604058, 47.60595, 47.603509, 47.610184999999994, 47.602103, 47.618633, 47.622063, 47.623367, 47.620712, 47.618549, 47.61533, 47.615486, 47.615517, 47.615456, 47.624142, 47.624297999999996, 47.663509000000005, 47.627643, 47.634831, 47.64909, 47.607281, 47.609239, 47.598488, 47.600757, 47.598994, 47.619859000000005, 47.627734999999994, 47.623165, 47.618320000000004, 47.613628000000006, 47.613715, 47.626041, 47.618285, 47.622277000000004, 47.61626, 47.624769, 47.666145, 47.658288, 47.656395, 47.663143, 47.660268, 47.659756, 47.655590000000004, 47.654613, 47.653713, 47.650725, 47.614315000000005, 47.607702, 47.61863956, 47.62087853, 47.64995155, 47.61137028], \"legendgroup\": \"\", \"lon\": [-122.35096399999999, -122.348564, -122.341102, -122.34420800000001, -122.332447, -122.335596, -122.3358, -122.33576799999999, -122.330409, -122.33964099999999, -122.316923, -122.325249, -122.321251, -122.32527900000001, -122.31280500000001, -122.31701699999999, -122.311752, -122.31824499999999, -122.322083, -122.326729, -122.31681100000002, -122.33961699999999, -122.28411899999999, -122.332576, -122.32663400000001, -122.32298300000001, -122.32478300000001, -122.31665100000001, -122.326412, -122.33294599999999, -122.32968400000001, -122.330304, -122.34223200000001, -122.33820300000001, -122.33891299999999, -122.337341, -122.331777, -122.335831, -122.342205, -122.35523, -122.33381499999999, -122.339408, -122.301491, -122.31333400000001, -122.31562, -122.31508600000001, -122.304826, -122.310402, -122.31188999999999, -122.30486299999998, -122.30216200000001, -122.31118799999999, -122.35409299999999, -122.34165, -122.32077690000001, -122.34737690000001, -122.3062634, -122.34870149999999], \"marker\": {\"color\": \"#636efa\"}, \"mode\": \"markers\", \"name\": \"\", \"showlegend\": false, \"subplot\": \"mapbox\", \"type\": \"scattermapbox\"}, {\"lat\": [47.614315000000005, 47.614315000000005], \"lon\": [-122.35409299999999, -122.35409299999999], \"marker\": {\"size\": 10}, \"mode\": \"markers+lines\", \"type\": \"scattermapbox\"}, {\"lat\": [47.614315000000005, 47.607702], \"lon\": [-122.35409299999999, -122.34165], \"marker\": {\"size\": 10}, \"mode\": \"markers+lines\", \"type\": \"scattermapbox\"}, {\"lat\": [47.607702, 47.614315000000005], \"lon\": [-122.34165, -122.35409299999999], \"marker\": {\"size\": 10}, \"mode\": \"markers+lines\", \"type\": \"scattermapbox\"}, {\"lat\": [47.607702, 47.607702], \"lon\": [-122.34165, -122.34165], \"marker\": {\"size\": 10}, \"mode\": \"markers+lines\", \"type\": \"scattermapbox\"}, {\"lat\": [47.626041, 47.626041], \"lon\": [-122.335831, -122.335831], \"marker\": {\"size\": 10}, \"mode\": \"markers+lines\", \"type\": \"scattermapbox\"}, {\"lat\": [47.666145, 47.666145], \"lon\": [-122.301491, -122.301491], \"marker\": {\"size\": 10}, \"mode\": \"markers+lines\", \"type\": \"scattermapbox\"}, {\"lat\": [47.618418, 47.607702], \"lon\": [-122.35096399999999, -122.34165], \"marker\": {\"size\": 10}, \"mode\": \"markers+lines\", \"type\": \"scattermapbox\"}, {\"lat\": [47.618418, 47.614315000000005], \"lon\": [-122.35096399999999, -122.35409299999999], \"marker\": {\"size\": 10}, \"mode\": \"markers+lines\", \"type\": \"scattermapbox\"}, {\"lat\": [47.656395, 47.656395], \"lon\": [-122.31562, -122.31562], \"marker\": {\"size\": 10}, \"mode\": \"markers+lines\", \"type\": \"scattermapbox\"}, {\"lat\": [47.618418, 47.610184999999994], \"lon\": [-122.35096399999999, -122.33964099999999], \"marker\": {\"size\": 10}, \"mode\": \"markers+lines\", \"type\": \"scattermapbox\"}],\n",
              "                        {\"legend\": {\"tracegroupgap\": 0}, \"mapbox\": {\"accesstoken\": \"pk.eyJ1IjoicG9sZ3Jpc2hhIiwiYSI6ImNrOHU3N3Z6dzAxdHkzbHFra2ZyMGw4ODQifQ.igzdXr2ju9ndExqwOEb27Q\", \"center\": {\"lat\": 47.62479551586206, \"lon\": -122.32724190862069}, \"domain\": {\"x\": [0.0, 1.0], \"y\": [0.0, 1.0]}, \"zoom\": 11}, \"margin\": {\"t\": 60}, \"template\": {\"data\": {\"bar\": [{\"error_x\": {\"color\": \"#2a3f5f\"}, \"error_y\": {\"color\": \"#2a3f5f\"}, \"marker\": {\"line\": {\"color\": \"#E5ECF6\", \"width\": 0.5}}, \"type\": \"bar\"}], \"barpolar\": [{\"marker\": {\"line\": {\"color\": \"#E5ECF6\", \"width\": 0.5}}, \"type\": \"barpolar\"}], \"carpet\": [{\"aaxis\": {\"endlinecolor\": \"#2a3f5f\", \"gridcolor\": \"white\", \"linecolor\": \"white\", \"minorgridcolor\": \"white\", \"startlinecolor\": \"#2a3f5f\"}, \"baxis\": {\"endlinecolor\": \"#2a3f5f\", \"gridcolor\": \"white\", \"linecolor\": \"white\", \"minorgridcolor\": \"white\", \"startlinecolor\": \"#2a3f5f\"}, \"type\": \"carpet\"}], \"choropleth\": [{\"colorbar\": {\"outlinewidth\": 0, \"ticks\": \"\"}, \"type\": \"choropleth\"}], \"contour\": [{\"colorbar\": {\"outlinewidth\": 0, \"ticks\": \"\"}, \"colorscale\": [[0.0, \"#0d0887\"], [0.1111111111111111, \"#46039f\"], [0.2222222222222222, \"#7201a8\"], [0.3333333333333333, \"#9c179e\"], [0.4444444444444444, \"#bd3786\"], [0.5555555555555556, \"#d8576b\"], [0.6666666666666666, \"#ed7953\"], [0.7777777777777778, \"#fb9f3a\"], [0.8888888888888888, \"#fdca26\"], [1.0, \"#f0f921\"]], \"type\": \"contour\"}], \"contourcarpet\": [{\"colorbar\": {\"outlinewidth\": 0, \"ticks\": \"\"}, \"type\": \"contourcarpet\"}], \"heatmap\": [{\"colorbar\": {\"outlinewidth\": 0, \"ticks\": \"\"}, \"colorscale\": [[0.0, \"#0d0887\"], [0.1111111111111111, \"#46039f\"], [0.2222222222222222, \"#7201a8\"], [0.3333333333333333, \"#9c179e\"], [0.4444444444444444, \"#bd3786\"], [0.5555555555555556, \"#d8576b\"], [0.6666666666666666, \"#ed7953\"], [0.7777777777777778, \"#fb9f3a\"], [0.8888888888888888, \"#fdca26\"], [1.0, \"#f0f921\"]], \"type\": \"heatmap\"}], \"heatmapgl\": [{\"colorbar\": {\"outlinewidth\": 0, \"ticks\": \"\"}, \"colorscale\": [[0.0, \"#0d0887\"], [0.1111111111111111, \"#46039f\"], [0.2222222222222222, \"#7201a8\"], [0.3333333333333333, \"#9c179e\"], [0.4444444444444444, \"#bd3786\"], [0.5555555555555556, \"#d8576b\"], [0.6666666666666666, \"#ed7953\"], [0.7777777777777778, \"#fb9f3a\"], [0.8888888888888888, \"#fdca26\"], [1.0, \"#f0f921\"]], \"type\": \"heatmapgl\"}], \"histogram\": [{\"marker\": {\"colorbar\": {\"outlinewidth\": 0, \"ticks\": \"\"}}, \"type\": \"histogram\"}], \"histogram2d\": [{\"colorbar\": {\"outlinewidth\": 0, \"ticks\": \"\"}, \"colorscale\": [[0.0, \"#0d0887\"], [0.1111111111111111, \"#46039f\"], [0.2222222222222222, \"#7201a8\"], [0.3333333333333333, \"#9c179e\"], [0.4444444444444444, \"#bd3786\"], [0.5555555555555556, \"#d8576b\"], [0.6666666666666666, \"#ed7953\"], [0.7777777777777778, \"#fb9f3a\"], [0.8888888888888888, \"#fdca26\"], [1.0, \"#f0f921\"]], \"type\": \"histogram2d\"}], \"histogram2dcontour\": [{\"colorbar\": {\"outlinewidth\": 0, \"ticks\": \"\"}, \"colorscale\": [[0.0, \"#0d0887\"], [0.1111111111111111, \"#46039f\"], [0.2222222222222222, \"#7201a8\"], [0.3333333333333333, \"#9c179e\"], [0.4444444444444444, \"#bd3786\"], [0.5555555555555556, \"#d8576b\"], [0.6666666666666666, \"#ed7953\"], [0.7777777777777778, \"#fb9f3a\"], [0.8888888888888888, \"#fdca26\"], [1.0, \"#f0f921\"]], \"type\": \"histogram2dcontour\"}], \"mesh3d\": [{\"colorbar\": {\"outlinewidth\": 0, \"ticks\": \"\"}, \"type\": \"mesh3d\"}], \"parcoords\": [{\"line\": {\"colorbar\": {\"outlinewidth\": 0, \"ticks\": \"\"}}, \"type\": \"parcoords\"}], \"pie\": [{\"automargin\": true, \"type\": \"pie\"}], \"scatter\": [{\"marker\": {\"colorbar\": {\"outlinewidth\": 0, \"ticks\": \"\"}}, \"type\": \"scatter\"}], \"scatter3d\": [{\"line\": {\"colorbar\": {\"outlinewidth\": 0, \"ticks\": \"\"}}, \"marker\": {\"colorbar\": {\"outlinewidth\": 0, \"ticks\": \"\"}}, \"type\": \"scatter3d\"}], \"scattercarpet\": [{\"marker\": {\"colorbar\": {\"outlinewidth\": 0, \"ticks\": \"\"}}, \"type\": \"scattercarpet\"}], \"scattergeo\": [{\"marker\": {\"colorbar\": {\"outlinewidth\": 0, \"ticks\": \"\"}}, \"type\": \"scattergeo\"}], \"scattergl\": [{\"marker\": {\"colorbar\": {\"outlinewidth\": 0, \"ticks\": \"\"}}, \"type\": \"scattergl\"}], \"scattermapbox\": [{\"marker\": {\"colorbar\": {\"outlinewidth\": 0, \"ticks\": \"\"}}, \"type\": \"scattermapbox\"}], \"scatterpolar\": [{\"marker\": {\"colorbar\": {\"outlinewidth\": 0, \"ticks\": \"\"}}, \"type\": \"scatterpolar\"}], \"scatterpolargl\": [{\"marker\": {\"colorbar\": {\"outlinewidth\": 0, \"ticks\": \"\"}}, \"type\": \"scatterpolargl\"}], \"scatterternary\": [{\"marker\": {\"colorbar\": {\"outlinewidth\": 0, \"ticks\": \"\"}}, \"type\": \"scatterternary\"}], \"surface\": [{\"colorbar\": {\"outlinewidth\": 0, \"ticks\": \"\"}, \"colorscale\": [[0.0, \"#0d0887\"], [0.1111111111111111, \"#46039f\"], [0.2222222222222222, \"#7201a8\"], [0.3333333333333333, \"#9c179e\"], [0.4444444444444444, \"#bd3786\"], [0.5555555555555556, \"#d8576b\"], [0.6666666666666666, \"#ed7953\"], [0.7777777777777778, \"#fb9f3a\"], [0.8888888888888888, \"#fdca26\"], [1.0, \"#f0f921\"]], \"type\": \"surface\"}], \"table\": [{\"cells\": {\"fill\": {\"color\": \"#EBF0F8\"}, \"line\": {\"color\": \"white\"}}, \"header\": {\"fill\": {\"color\": \"#C8D4E3\"}, \"line\": {\"color\": \"white\"}}, \"type\": \"table\"}]}, \"layout\": {\"annotationdefaults\": {\"arrowcolor\": \"#2a3f5f\", \"arrowhead\": 0, \"arrowwidth\": 1}, \"coloraxis\": {\"colorbar\": {\"outlinewidth\": 0, \"ticks\": \"\"}}, \"colorscale\": {\"diverging\": [[0, \"#8e0152\"], [0.1, \"#c51b7d\"], [0.2, \"#de77ae\"], [0.3, \"#f1b6da\"], [0.4, \"#fde0ef\"], [0.5, \"#f7f7f7\"], [0.6, \"#e6f5d0\"], [0.7, \"#b8e186\"], [0.8, \"#7fbc41\"], [0.9, \"#4d9221\"], [1, \"#276419\"]], \"sequential\": [[0.0, \"#0d0887\"], [0.1111111111111111, \"#46039f\"], [0.2222222222222222, \"#7201a8\"], [0.3333333333333333, \"#9c179e\"], [0.4444444444444444, \"#bd3786\"], [0.5555555555555556, \"#d8576b\"], [0.6666666666666666, \"#ed7953\"], [0.7777777777777778, \"#fb9f3a\"], [0.8888888888888888, \"#fdca26\"], [1.0, \"#f0f921\"]], \"sequentialminus\": [[0.0, \"#0d0887\"], [0.1111111111111111, \"#46039f\"], [0.2222222222222222, \"#7201a8\"], [0.3333333333333333, \"#9c179e\"], [0.4444444444444444, \"#bd3786\"], [0.5555555555555556, \"#d8576b\"], [0.6666666666666666, \"#ed7953\"], [0.7777777777777778, \"#fb9f3a\"], [0.8888888888888888, \"#fdca26\"], [1.0, \"#f0f921\"]]}, \"colorway\": [\"#636efa\", \"#EF553B\", \"#00cc96\", \"#ab63fa\", \"#FFA15A\", \"#19d3f3\", \"#FF6692\", \"#B6E880\", \"#FF97FF\", \"#FECB52\"], \"font\": {\"color\": \"#2a3f5f\"}, \"geo\": {\"bgcolor\": \"white\", \"lakecolor\": \"white\", \"landcolor\": \"#E5ECF6\", \"showlakes\": true, \"showland\": true, \"subunitcolor\": \"white\"}, \"hoverlabel\": {\"align\": \"left\"}, \"hovermode\": \"closest\", \"mapbox\": {\"style\": \"light\"}, \"paper_bgcolor\": \"white\", \"plot_bgcolor\": \"#E5ECF6\", \"polar\": {\"angularaxis\": {\"gridcolor\": \"white\", \"linecolor\": \"white\", \"ticks\": \"\"}, \"bgcolor\": \"#E5ECF6\", \"radialaxis\": {\"gridcolor\": \"white\", \"linecolor\": \"white\", \"ticks\": \"\"}}, \"scene\": {\"xaxis\": {\"backgroundcolor\": \"#E5ECF6\", \"gridcolor\": \"white\", \"gridwidth\": 2, \"linecolor\": \"white\", \"showbackground\": true, \"ticks\": \"\", \"zerolinecolor\": \"white\"}, \"yaxis\": {\"backgroundcolor\": \"#E5ECF6\", \"gridcolor\": \"white\", \"gridwidth\": 2, \"linecolor\": \"white\", \"showbackground\": true, \"ticks\": \"\", \"zerolinecolor\": \"white\"}, \"zaxis\": {\"backgroundcolor\": \"#E5ECF6\", \"gridcolor\": \"white\", \"gridwidth\": 2, \"linecolor\": \"white\", \"showbackground\": true, \"ticks\": \"\", \"zerolinecolor\": \"white\"}}, \"shapedefaults\": {\"line\": {\"color\": \"#2a3f5f\"}}, \"ternary\": {\"aaxis\": {\"gridcolor\": \"white\", \"linecolor\": \"white\", \"ticks\": \"\"}, \"baxis\": {\"gridcolor\": \"white\", \"linecolor\": \"white\", \"ticks\": \"\"}, \"bgcolor\": \"#E5ECF6\", \"caxis\": {\"gridcolor\": \"white\", \"linecolor\": \"white\", \"ticks\": \"\"}}, \"title\": {\"x\": 0.05}, \"xaxis\": {\"automargin\": true, \"gridcolor\": \"white\", \"linecolor\": \"white\", \"ticks\": \"\", \"title\": {\"standoff\": 15}, \"zerolinecolor\": \"white\", \"zerolinewidth\": 2}, \"yaxis\": {\"automargin\": true, \"gridcolor\": \"white\", \"linecolor\": \"white\", \"ticks\": \"\", \"title\": {\"standoff\": 15}, \"zerolinecolor\": \"white\", \"zerolinewidth\": 2}}}},\n",
              "                        {\"responsive\": true}\n",
              "                    ).then(function(){\n",
              "                            \n",
              "var gd = document.getElementById('d30f71b5-028c-4767-894e-ed18e3385446');\n",
              "var x = new MutationObserver(function (mutations, observer) {{\n",
              "        var display = window.getComputedStyle(gd).display;\n",
              "        if (!display || display === 'none') {{\n",
              "            console.log([gd, 'removed!']);\n",
              "            Plotly.purge(gd);\n",
              "            observer.disconnect();\n",
              "        }}\n",
              "}});\n",
              "\n",
              "// Listen for the removal of the full notebook cells\n",
              "var notebookContainer = gd.closest('#notebook-container');\n",
              "if (notebookContainer) {{\n",
              "    x.observe(notebookContainer, {childList: true});\n",
              "}}\n",
              "\n",
              "// Listen for the clearing of the current output cell\n",
              "var outputEl = gd.closest('.output');\n",
              "if (outputEl) {{\n",
              "    x.observe(outputEl, {childList: true});\n",
              "}}\n",
              "\n",
              "                        })\n",
              "                };\n",
              "                \n",
              "            </script>\n",
              "        </div>\n",
              "</body>\n",
              "</html>"
            ]
          },
          "metadata": {
            "tags": []
          }
        }
      ]
    },
    {
      "cell_type": "markdown",
      "metadata": {
        "id": "NDS4zl2FZfOI",
        "colab_type": "text"
      },
      "source": [
        "**Наблюдение:** многие, кто не владеет абонементом, оставляют велосипед на той же станции, с которой его берут (точки, выделенные цветом на карте). Также, в отличие от поездок с абонементами, здесь можно заметить активность в районе университета. Возможно, стоит провести отдельную рекламную кампанию на станциях этого района."
      ]
    }
  ]
}