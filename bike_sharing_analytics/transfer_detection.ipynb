{
 "cells": [
  {
   "cell_type": "markdown",
   "metadata": {},
   "source": [
    "## Детекция \"перебросов\"\n",
    "\n",
    "Ноутбук по нахождению \"перебросов\" велосипедов с одной станции на другую сотрудниками компании "
   ]
  },
  {
   "cell_type": "markdown",
   "metadata": {},
   "source": [
    "### Загрузка датасета"
   ]
  },
  {
   "cell_type": "code",
   "execution_count": 31,
   "metadata": {},
   "outputs": [],
   "source": [
    "import scipy as sps\n",
    "import numpy as np\n",
    "import matplotlib.pyplot as plt\n",
    "import seaborn as sns\n",
    "import pandas as pd\n",
    "from tqdm import tqdm_notebook\n",
    "import warnings\n",
    "from sklearn.preprocessing import LabelEncoder\n",
    "\n",
    "warnings.filterwarnings('ignore')"
   ]
  },
  {
   "cell_type": "code",
   "execution_count": 32,
   "metadata": {},
   "outputs": [
    {
     "name": "stderr",
     "output_type": "stream",
     "text": [
      "b'Skipping line 50794: expected 12 fields, saw 20\\n'\n"
     ]
    },
    {
     "name": "stdout",
     "output_type": "stream",
     "text": [
      "(286857, 12)\n"
     ]
    }
   ],
   "source": [
    "trips = pd.read_csv('cycle-share-dataset/trip.csv', error_bad_lines=False)\n",
    "\n",
    "trips.starttime = trips.starttime.map(lambda x: pd.to_datetime(x))\n",
    "trips.stoptime = trips.stoptime.map(lambda x: pd.to_datetime(x))\n",
    "\n",
    "print(trips.shape)"
   ]
  },
  {
   "cell_type": "code",
   "execution_count": 33,
   "metadata": {},
   "outputs": [
    {
     "data": {
      "text/html": [
       "<div>\n",
       "<style scoped>\n",
       "    .dataframe tbody tr th:only-of-type {\n",
       "        vertical-align: middle;\n",
       "    }\n",
       "\n",
       "    .dataframe tbody tr th {\n",
       "        vertical-align: top;\n",
       "    }\n",
       "\n",
       "    .dataframe thead th {\n",
       "        text-align: right;\n",
       "    }\n",
       "</style>\n",
       "<table border=\"1\" class=\"dataframe\">\n",
       "  <thead>\n",
       "    <tr style=\"text-align: right;\">\n",
       "      <th></th>\n",
       "      <th>trip_id</th>\n",
       "      <th>starttime</th>\n",
       "      <th>stoptime</th>\n",
       "      <th>bikeid</th>\n",
       "      <th>tripduration</th>\n",
       "      <th>from_station_name</th>\n",
       "      <th>to_station_name</th>\n",
       "      <th>from_station_id</th>\n",
       "      <th>to_station_id</th>\n",
       "      <th>usertype</th>\n",
       "      <th>gender</th>\n",
       "      <th>birthyear</th>\n",
       "    </tr>\n",
       "  </thead>\n",
       "  <tbody>\n",
       "    <tr>\n",
       "      <td>0</td>\n",
       "      <td>431</td>\n",
       "      <td>2014-10-13 10:31:00</td>\n",
       "      <td>2014-10-13 10:48:00</td>\n",
       "      <td>SEA00298</td>\n",
       "      <td>985.935</td>\n",
       "      <td>2nd Ave &amp; Spring St</td>\n",
       "      <td>Occidental Park / Occidental Ave S &amp; S Washing...</td>\n",
       "      <td>CBD-06</td>\n",
       "      <td>PS-04</td>\n",
       "      <td>Member</td>\n",
       "      <td>Male</td>\n",
       "      <td>1960.0</td>\n",
       "    </tr>\n",
       "    <tr>\n",
       "      <td>1</td>\n",
       "      <td>432</td>\n",
       "      <td>2014-10-13 10:32:00</td>\n",
       "      <td>2014-10-13 10:48:00</td>\n",
       "      <td>SEA00195</td>\n",
       "      <td>926.375</td>\n",
       "      <td>2nd Ave &amp; Spring St</td>\n",
       "      <td>Occidental Park / Occidental Ave S &amp; S Washing...</td>\n",
       "      <td>CBD-06</td>\n",
       "      <td>PS-04</td>\n",
       "      <td>Member</td>\n",
       "      <td>Male</td>\n",
       "      <td>1970.0</td>\n",
       "    </tr>\n",
       "    <tr>\n",
       "      <td>2</td>\n",
       "      <td>433</td>\n",
       "      <td>2014-10-13 10:33:00</td>\n",
       "      <td>2014-10-13 10:48:00</td>\n",
       "      <td>SEA00486</td>\n",
       "      <td>883.831</td>\n",
       "      <td>2nd Ave &amp; Spring St</td>\n",
       "      <td>Occidental Park / Occidental Ave S &amp; S Washing...</td>\n",
       "      <td>CBD-06</td>\n",
       "      <td>PS-04</td>\n",
       "      <td>Member</td>\n",
       "      <td>Female</td>\n",
       "      <td>1988.0</td>\n",
       "    </tr>\n",
       "    <tr>\n",
       "      <td>3</td>\n",
       "      <td>434</td>\n",
       "      <td>2014-10-13 10:34:00</td>\n",
       "      <td>2014-10-13 10:48:00</td>\n",
       "      <td>SEA00333</td>\n",
       "      <td>865.937</td>\n",
       "      <td>2nd Ave &amp; Spring St</td>\n",
       "      <td>Occidental Park / Occidental Ave S &amp; S Washing...</td>\n",
       "      <td>CBD-06</td>\n",
       "      <td>PS-04</td>\n",
       "      <td>Member</td>\n",
       "      <td>Female</td>\n",
       "      <td>1977.0</td>\n",
       "    </tr>\n",
       "    <tr>\n",
       "      <td>4</td>\n",
       "      <td>435</td>\n",
       "      <td>2014-10-13 10:34:00</td>\n",
       "      <td>2014-10-13 10:49:00</td>\n",
       "      <td>SEA00202</td>\n",
       "      <td>923.923</td>\n",
       "      <td>2nd Ave &amp; Spring St</td>\n",
       "      <td>Occidental Park / Occidental Ave S &amp; S Washing...</td>\n",
       "      <td>CBD-06</td>\n",
       "      <td>PS-04</td>\n",
       "      <td>Member</td>\n",
       "      <td>Male</td>\n",
       "      <td>1971.0</td>\n",
       "    </tr>\n",
       "  </tbody>\n",
       "</table>\n",
       "</div>"
      ],
      "text/plain": [
       "   trip_id           starttime            stoptime    bikeid  tripduration  \\\n",
       "0      431 2014-10-13 10:31:00 2014-10-13 10:48:00  SEA00298       985.935   \n",
       "1      432 2014-10-13 10:32:00 2014-10-13 10:48:00  SEA00195       926.375   \n",
       "2      433 2014-10-13 10:33:00 2014-10-13 10:48:00  SEA00486       883.831   \n",
       "3      434 2014-10-13 10:34:00 2014-10-13 10:48:00  SEA00333       865.937   \n",
       "4      435 2014-10-13 10:34:00 2014-10-13 10:49:00  SEA00202       923.923   \n",
       "\n",
       "     from_station_name                                    to_station_name  \\\n",
       "0  2nd Ave & Spring St  Occidental Park / Occidental Ave S & S Washing...   \n",
       "1  2nd Ave & Spring St  Occidental Park / Occidental Ave S & S Washing...   \n",
       "2  2nd Ave & Spring St  Occidental Park / Occidental Ave S & S Washing...   \n",
       "3  2nd Ave & Spring St  Occidental Park / Occidental Ave S & S Washing...   \n",
       "4  2nd Ave & Spring St  Occidental Park / Occidental Ave S & S Washing...   \n",
       "\n",
       "  from_station_id to_station_id usertype  gender  birthyear  \n",
       "0          CBD-06         PS-04   Member    Male     1960.0  \n",
       "1          CBD-06         PS-04   Member    Male     1970.0  \n",
       "2          CBD-06         PS-04   Member  Female     1988.0  \n",
       "3          CBD-06         PS-04   Member  Female     1977.0  \n",
       "4          CBD-06         PS-04   Member    Male     1971.0  "
      ]
     },
     "execution_count": 33,
     "metadata": {},
     "output_type": "execute_result"
    }
   ],
   "source": [
    "trips.head()"
   ]
  },
  {
   "cell_type": "code",
   "execution_count": 34,
   "metadata": {},
   "outputs": [
    {
     "data": {
      "text/plain": [
       "trip_id                       int64\n",
       "starttime            datetime64[ns]\n",
       "stoptime             datetime64[ns]\n",
       "bikeid                       object\n",
       "tripduration                float64\n",
       "from_station_name            object\n",
       "to_station_name              object\n",
       "from_station_id              object\n",
       "to_station_id                object\n",
       "usertype                     object\n",
       "gender                       object\n",
       "birthyear                   float64\n",
       "dtype: object"
      ]
     },
     "execution_count": 34,
     "metadata": {},
     "output_type": "execute_result"
    }
   ],
   "source": [
    "trips.dtypes"
   ]
  },
  {
   "cell_type": "markdown",
   "metadata": {},
   "source": [
    "### Поиск \"перебросов\"\n",
    "\n",
    "1) Для каждого велосипеда будем хранить список индексы всех его поездок в хронологическом порядке\n",
    "\n",
    "2) Проходясь по списку поездок будем смотреть на пары (откуда, куда). Если встречается две подряд идущих пары (a, b) (c, d), причем b$\\neq$c, то со станции b на станцию c был осуществлен переброс.\n",
    "\n",
    "3) Сохраним все перебросы в отдельном pandas датафрейме"
   ]
  },
  {
   "cell_type": "code",
   "execution_count": 35,
   "metadata": {},
   "outputs": [
    {
     "data": {
      "text/plain": [
       "True"
      ]
     },
     "execution_count": 35,
     "metadata": {},
     "output_type": "execute_result"
    }
   ],
   "source": [
    "# проверим, совпадают ли уникальные значения станций в столбцах \"откуда\" и \"куда\"\n",
    "set(np.unique(np.array(trips.from_station_name))) == set(np.unique(np.array(trips.to_station_name)))"
   ]
  },
  {
   "cell_type": "code",
   "execution_count": 36,
   "metadata": {},
   "outputs": [
    {
     "name": "stdout",
     "output_type": "stream",
     "text": [
      "Wall time: 96.9 ms\n"
     ]
    }
   ],
   "source": [
    "%%time\n",
    "\n",
    "# label encoding станций\n",
    "le = LabelEncoder()\n",
    "trips.from_station_name = le.fit_transform(trips.from_station_name)\n",
    "trips.to_station_name = le.transform(trips.to_station_name)"
   ]
  },
  {
   "cell_type": "code",
   "execution_count": 37,
   "metadata": {},
   "outputs": [
    {
     "data": {
      "application/vnd.jupyter.widget-view+json": {
       "model_id": "a6b1683bf5f747828fbcc428ce12a0cb",
       "version_major": 2,
       "version_minor": 0
      },
      "text/plain": [
       "HBox(children=(IntProgress(value=1, bar_style='info', max=1), HTML(value='')))"
      ]
     },
     "metadata": {},
     "output_type": "display_data"
    },
    {
     "name": "stdout",
     "output_type": "stream",
     "text": [
      "\n"
     ]
    }
   ],
   "source": [
    "# ключ - bikeid, значение - список поездок\n",
    "d = {}\n",
    "\n",
    "X = np.array(trips)\n",
    "for i, trip in tqdm_notebook(enumerate(X)):\n",
    "    bike_id = trip[3]\n",
    "    \n",
    "    if bike_id in d:\n",
    "        d[bike_id].append(i)\n",
    "    else:\n",
    "        d[bike_id] = [i]"
   ]
  },
  {
   "cell_type": "code",
   "execution_count": 38,
   "metadata": {},
   "outputs": [],
   "source": [
    "# по списку поездок выдаём список перебросов\n",
    "def check_bike_trips(arr):\n",
    "    transfers = []\n",
    "    \n",
    "    trips_list = []\n",
    "    for i in arr:\n",
    "        from_station = X[i][5]\n",
    "        to_station = X[i][6]\n",
    "        trips_list.append((from_station, to_station))\n",
    "\n",
    "    for i in range(1, len(arr)):\n",
    "        cur_trip = trips_list[i]\n",
    "        prev_trip = trips_list[i-1]\n",
    "        if cur_trip[0] != prev_trip[1]:\n",
    "            prev_trip_id = arr[i-1]\n",
    "            cur_trip_id = arr[i]\n",
    "            transfers.append([\n",
    "                X[prev_trip_id][2], # время конца предыдущей поездки\n",
    "                X[cur_trip_id][1], # время начала текущей поездки\n",
    "                le.inverse_transform([X[prev_trip_id][6]])[0], # на какой станции был\n",
    "                le.inverse_transform([X[cur_trip_id][5]])[0] # на какой оказался\n",
    "            ])\n",
    "            \n",
    "    return transfers"
   ]
  },
  {
   "cell_type": "code",
   "execution_count": 39,
   "metadata": {},
   "outputs": [],
   "source": [
    "transfers_dict = {}\n",
    "            \n",
    "for key in d:\n",
    "    transfers_dict[key] = check_bike_trips(d[key])"
   ]
  },
  {
   "cell_type": "code",
   "execution_count": 40,
   "metadata": {},
   "outputs": [],
   "source": [
    "transfers = []\n",
    "\n",
    "for key in transfers_dict:\n",
    "    for transfer in transfers_dict[key]:\n",
    "        transfers.append([key] + transfer)"
   ]
  },
  {
   "cell_type": "code",
   "execution_count": 43,
   "metadata": {},
   "outputs": [
    {
     "name": "stdout",
     "output_type": "stream",
     "text": [
      "Найдено перебросов: 68413\n",
      "Отношение кол-ва поездок к перебросам: 4.193018870682472\n"
     ]
    }
   ],
   "source": [
    "print(f'Найдено перебросов: {len(transfers)}')\n",
    "print(f'Отношение кол-ва поездок к перебросам: {len(X) / len(transfers)}')"
   ]
  },
  {
   "cell_type": "markdown",
   "metadata": {},
   "source": [
    "Получилось, что перебросов довольно много: на каждый 4 поездки в среднем приходится один переброс. Наверняка компания может изменить конфигурации станций, чтобы таких перебросов было меньше."
   ]
  },
  {
   "cell_type": "markdown",
   "metadata": {},
   "source": [
    "Чтобы сохранить перебросы в отдельный датасет, получим еще словарь, который мэтчит названия станций с их id."
   ]
  },
  {
   "cell_type": "code",
   "execution_count": 50,
   "metadata": {},
   "outputs": [],
   "source": [
    "name_id = {}\n",
    "stations = pd.read_csv('cycle-share-dataset/station.csv', error_bad_lines=False)\n",
    "\n",
    "for id_, name in zip(np.array(stations.station_id), np.array(stations.name)):\n",
    "    if name in name_id:\n",
    "        continue\n",
    "    else:\n",
    "        name_id[name] = id_"
   ]
  },
  {
   "cell_type": "markdown",
   "metadata": {},
   "source": [
    "Добавим айдишники в список перебросок"
   ]
  },
  {
   "cell_type": "code",
   "execution_count": 68,
   "metadata": {},
   "outputs": [
    {
     "data": {
      "application/vnd.jupyter.widget-view+json": {
       "model_id": "6035aace2ba8465eae255ee752db39cb",
       "version_major": 2,
       "version_minor": 0
      },
      "text/plain": [
       "HBox(children=(IntProgress(value=0, max=68413), HTML(value='')))"
      ]
     },
     "metadata": {},
     "output_type": "display_data"
    },
    {
     "name": "stdout",
     "output_type": "stream",
     "text": [
      "\n"
     ]
    }
   ],
   "source": [
    "transfers_with_id = []\n",
    "\n",
    "for transfer in tqdm_notebook(transfers):\n",
    "    # исключаем магазины, нас интересуют станции\n",
    "    if transfer[3][:11] == 'Pronto shop' or transfer[4][:11] == 'Pronto shop':\n",
    "        continue\n",
    "    transfers_with_id.append(transfer + \\\n",
    "                             [name_id[transfer[3]], name_id[transfer[4]]])"
   ]
  },
  {
   "cell_type": "code",
   "execution_count": 70,
   "metadata": {},
   "outputs": [
    {
     "data": {
      "text/html": [
       "<div>\n",
       "<style scoped>\n",
       "    .dataframe tbody tr th:only-of-type {\n",
       "        vertical-align: middle;\n",
       "    }\n",
       "\n",
       "    .dataframe tbody tr th {\n",
       "        vertical-align: top;\n",
       "    }\n",
       "\n",
       "    .dataframe thead th {\n",
       "        text-align: right;\n",
       "    }\n",
       "</style>\n",
       "<table border=\"1\" class=\"dataframe\">\n",
       "  <thead>\n",
       "    <tr style=\"text-align: right;\">\n",
       "      <th></th>\n",
       "      <th>bikeid</th>\n",
       "      <th>starttime</th>\n",
       "      <th>stoptime</th>\n",
       "      <th>from_station_name</th>\n",
       "      <th>to_station_name</th>\n",
       "      <th>from_station_id</th>\n",
       "      <th>to_station_id</th>\n",
       "    </tr>\n",
       "  </thead>\n",
       "  <tbody>\n",
       "    <tr>\n",
       "      <td>0</td>\n",
       "      <td>SEA00298</td>\n",
       "      <td>2014-10-13 12:05:00</td>\n",
       "      <td>2014-10-13 20:03:00</td>\n",
       "      <td>1st Ave &amp; Marion St</td>\n",
       "      <td>2nd Ave &amp; Pine St</td>\n",
       "      <td>CBD-05</td>\n",
       "      <td>CBD-13</td>\n",
       "    </tr>\n",
       "    <tr>\n",
       "      <td>1</td>\n",
       "      <td>SEA00298</td>\n",
       "      <td>2014-10-15 10:42:00</td>\n",
       "      <td>2014-10-16 00:10:00</td>\n",
       "      <td>Eastlake Ave E &amp; E Allison St</td>\n",
       "      <td>Cal Anderson Park / 11th Ave &amp; Pine St</td>\n",
       "      <td>EL-05</td>\n",
       "      <td>CH-08</td>\n",
       "    </tr>\n",
       "    <tr>\n",
       "      <td>2</td>\n",
       "      <td>SEA00298</td>\n",
       "      <td>2014-10-16 08:52:00</td>\n",
       "      <td>2014-10-20 11:04:00</td>\n",
       "      <td>2nd Ave &amp; Pine St</td>\n",
       "      <td>Pier 69 / Alaskan Way &amp; Clay St</td>\n",
       "      <td>CBD-13</td>\n",
       "      <td>WF-01</td>\n",
       "    </tr>\n",
       "    <tr>\n",
       "      <td>3</td>\n",
       "      <td>SEA00298</td>\n",
       "      <td>2014-10-20 11:55:00</td>\n",
       "      <td>2014-10-23 16:28:00</td>\n",
       "      <td>3rd Ave &amp; Broad St</td>\n",
       "      <td>PATH / 9th Ave &amp; Westlake Ave</td>\n",
       "      <td>BT-01</td>\n",
       "      <td>SLU-07</td>\n",
       "    </tr>\n",
       "    <tr>\n",
       "      <td>4</td>\n",
       "      <td>SEA00298</td>\n",
       "      <td>2014-10-26 02:31:00</td>\n",
       "      <td>2014-10-29 07:55:00</td>\n",
       "      <td>6th Ave S &amp; S King St</td>\n",
       "      <td>12th Ave &amp; E Denny Way</td>\n",
       "      <td>ID-04</td>\n",
       "      <td>CH-06</td>\n",
       "    </tr>\n",
       "  </tbody>\n",
       "</table>\n",
       "</div>"
      ],
      "text/plain": [
       "     bikeid           starttime            stoptime  \\\n",
       "0  SEA00298 2014-10-13 12:05:00 2014-10-13 20:03:00   \n",
       "1  SEA00298 2014-10-15 10:42:00 2014-10-16 00:10:00   \n",
       "2  SEA00298 2014-10-16 08:52:00 2014-10-20 11:04:00   \n",
       "3  SEA00298 2014-10-20 11:55:00 2014-10-23 16:28:00   \n",
       "4  SEA00298 2014-10-26 02:31:00 2014-10-29 07:55:00   \n",
       "\n",
       "               from_station_name                         to_station_name  \\\n",
       "0            1st Ave & Marion St                       2nd Ave & Pine St   \n",
       "1  Eastlake Ave E & E Allison St  Cal Anderson Park / 11th Ave & Pine St   \n",
       "2              2nd Ave & Pine St         Pier 69 / Alaskan Way & Clay St   \n",
       "3             3rd Ave & Broad St           PATH / 9th Ave & Westlake Ave   \n",
       "4          6th Ave S & S King St                  12th Ave & E Denny Way   \n",
       "\n",
       "  from_station_id to_station_id  \n",
       "0          CBD-05        CBD-13  \n",
       "1           EL-05         CH-08  \n",
       "2          CBD-13         WF-01  \n",
       "3           BT-01        SLU-07  \n",
       "4           ID-04         CH-06  "
      ]
     },
     "execution_count": 70,
     "metadata": {},
     "output_type": "execute_result"
    }
   ],
   "source": [
    "df = pd.DataFrame(transfers_with_id)\n",
    "df.columns = ['bikeid', 'starttime', 'stoptime', \n",
    "              'from_station_name', 'to_station_name',\n",
    "              'from_station_id', 'to_station_id']\n",
    "df.head()"
   ]
  },
  {
   "cell_type": "code",
   "execution_count": 72,
   "metadata": {},
   "outputs": [],
   "source": [
    "df.to_csv('cycle-share-dataset/transfers.csv')"
   ]
  }
 ],
 "metadata": {
  "kernelspec": {
   "display_name": "Python 3",
   "language": "python",
   "name": "python3"
  },
  "language_info": {
   "codemirror_mode": {
    "name": "ipython",
    "version": 3
   },
   "file_extension": ".py",
   "mimetype": "text/x-python",
   "name": "python",
   "nbconvert_exporter": "python",
   "pygments_lexer": "ipython3",
   "version": "3.7.4"
  }
 },
 "nbformat": 4,
 "nbformat_minor": 2
}
